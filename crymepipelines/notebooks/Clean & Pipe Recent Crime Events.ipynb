{
 "cells": [
  {
   "cell_type": "markdown",
   "metadata": {},
   "source": [
    "## Clean & Pipe Recent Crime Events\n",
    "\n",
    "\n",
    "---\n",
    "Obj: Identify valid crimes for our analysis and pipe them into our web app."
   ]
  },
  {
   "cell_type": "code",
   "execution_count": 1,
   "metadata": {},
   "outputs": [],
   "source": [
    "import os\n",
    "import sys\n",
    "\n",
    "try:\n",
    "    import pyspark\n",
    "except ImportError:\n",
    "    import findspark\n",
    "    findspark.init()\n",
    "    import pyspark\n",
    "    \n",
    "    \n",
    "# give notebook access to crymepipelines app modules\n",
    "CRYMEPIPELINES_PATH = '/home/ben/.envs/cc/CrymeClarity/crymepipelines/src'\n",
    "sys.path.insert(0, CRYMEPIPELINES_PATH)\n",
    "\n",
    "#build spark session\n",
    "APP_NAME = 'CRYME_PIPELINE_DEV'\n",
    "sc = pyspark.SparkContext()\n",
    "spark = pyspark.sql.SparkSession(sc).builder.appName(APP_NAME).getOrCreate()\n"
   ]
  },
  {
   "cell_type": "code",
   "execution_count": null,
   "metadata": {},
   "outputs": [],
   "source": [
    "# import cyrmepipelines app modules\n",
    "import csv\n",
    "from datetime import datetime, timedelta\n",
    "import os\n",
    "import pickle as p\n",
    "import shutil\n",
    "\n",
    "from shared.objects.samples import SamplesManager\n",
    "from shared.settings import CF_TRUST_DELAY, START_DATE, cf_conn, cp_conn, TMP_DIR, BIN_DIR\n",
    "from tasks.base import SparkCrymeTask, NativeCrymeTask\n",
    "from utils import crime_occ_udf, ts_to_minutes_in_day_udf, ts_to_hour_of_day_udf, ts_to_day_of_week_udf, ts_conv, safety_rel_crimes\n",
    "from tasks.mixins import SearchForCrimesMixin"
   ]
  },
  {
   "cell_type": "code",
   "execution_count": null,
   "metadata": {},
   "outputs": [],
   "source": [
    "raw_crime_incidents = SparkCrymeTask(spark).load_df_from_crymefeeder(\"incidents\")"
   ]
  },
  {
   "cell_type": "code",
   "execution_count": null,
   "metadata": {},
   "outputs": [],
   "source": [
    "raw_crime_incidents.count()"
   ]
  },
  {
   "cell_type": "code",
   "execution_count": null,
   "metadata": {},
   "outputs": [],
   "source": [
    "raw_crime_incidents.show(1)"
   ]
  },
  {
   "cell_type": "markdown",
   "metadata": {},
   "source": [
    "Thats a lotta data, lets just look at rows with \"date occ\" within the last 30 days."
   ]
  },
  {
   "cell_type": "code",
   "execution_count": null,
   "metadata": {},
   "outputs": [],
   "source": [
    "crime_incidents = raw_crime_incidents.withColumn('date_occ', ts_conv(raw_crime_incidents.date_occ))\n",
    "crime_incidents = crime_incidents.filter(crime_incidents.date_occ > datetime.now().date() - timedelta(days=30))"
   ]
  },
  {
   "cell_type": "markdown",
   "metadata": {},
   "source": [
    "#### Crime Types"
   ]
  },
  {
   "cell_type": "code",
   "execution_count": null,
   "metadata": {},
   "outputs": [],
   "source": [
    "by_type = crime_incidents.groupBy('crm_cd_desc').agg({'_id': 'count', 'crm_cd': 'first'}).orderBy(\"count(_id)\")\n",
    "by_type.show(by_type.count(), False)"
   ]
  },
  {
   "cell_type": "markdown",
   "metadata": {},
   "source": [
    "So not all of these seem like real \"safety\" threats, for example \"Theft of Identity\". I think I should create a datastructure containing all crime_cd_descs or crime_cds that could be considered violent or threatening. (Added to utils.py)"
   ]
  },
  {
   "cell_type": "code",
   "execution_count": null,
   "metadata": {},
   "outputs": [],
   "source": [
    "crime_incidents = crime_incidents.filter(crime_incidents.crm_cd.isin(list(safety_rel_crimes.keys())))"
   ]
  },
  {
   "cell_type": "markdown",
   "metadata": {},
   "source": [
    "Finally, there are a bunch of columns that dont seem too interesting so lets drop those and flatten the coordinates."
   ]
  },
  {
   "cell_type": "code",
   "execution_count": null,
   "metadata": {},
   "outputs": [],
   "source": [
    "crime_incidents = crime_incidents.withColumn('Latitude', crime_incidents.location_1.coordinates[0])\n",
    "crime_incidents = crime_incidents.withColumn('Longitude', crime_incidents.location_1.coordinates[1])"
   ]
  },
  {
   "cell_type": "code",
   "execution_count": null,
   "metadata": {},
   "outputs": [],
   "source": [
    "crime_incidents.first()"
   ]
  },
  {
   "cell_type": "code",
   "execution_count": null,
   "metadata": {},
   "outputs": [],
   "source": [
    "crime_incidents = crime_incidents.select(['_id', 'crm_cd', 'crm_cd_desc', 'date_occ', 'time_occ', 'premis_desc', 'longitude', 'latitude'])"
   ]
  },
  {
   "cell_type": "code",
   "execution_count": null,
   "metadata": {},
   "outputs": [],
   "source": [
    "from pyspark.sql.functions import monotonically_increasing_id\n",
    "\n",
    "crime_incidents = crime_incidents.withColumn(\"id\", monotonically_increasing_id())\n",
    "crime_incidents = crime_incidents.withColumnRenamed(\"_id\", \"row_id\")"
   ]
  },
  {
   "cell_type": "code",
   "execution_count": null,
   "metadata": {},
   "outputs": [],
   "source": [
    "crime_incidents.filter(crime_incidents.row_id=='row-zwf3_jww3_st7i').show()"
   ]
  },
  {
   "cell_type": "code",
   "execution_count": null,
   "metadata": {},
   "outputs": [],
   "source": [
    "SparkCrymeTask(spark).write_to_cw(crime_incidents, 'crime_crimeincident')\n"
   ]
  },
  {
   "cell_type": "code",
   "execution_count": null,
   "metadata": {},
   "outputs": [],
   "source": [
    "from shared.settings import CRYMEWEB_DB_URL"
   ]
  },
  {
   "cell_type": "code",
   "execution_count": null,
   "metadata": {},
   "outputs": [],
   "source": [
    "CRYMEWEB_DB_URL"
   ]
  },
  {
   "cell_type": "code",
   "execution_count": 78,
   "metadata": {},
   "outputs": [],
   "source": [
    "a = spark.read.parquet(CRYMEPIPELINES_PATH + '/tmp/features_crime_incidents.parquet')"
   ]
  },
  {
   "cell_type": "code",
   "execution_count": 79,
   "metadata": {},
   "outputs": [
    {
     "name": "stdout",
     "output_type": "stream",
     "text": [
      "+------------------+------+--------------------+-------------------+--------+--------------------+---------+---------+-------+----------------+-------------+--------+--------+-----------+\n",
      "|               _id|crm_cd|         crm_cd_desc|           date_occ|time_occ|         premis_desc|      lon|      lat|crm_grp|time_occ_seconds|date_occ_unix|lat_bb_c|lon_bb_c|ts_occ_unix|\n",
      "+------------------+------+--------------------+-------------------+--------+--------------------+---------+---------+-------+----------------+-------------+--------+--------+-----------+\n",
      "|row-4vvu~7t7z-p5wk|   440|THEFT PLAIN - PET...|2018-10-06 00:00:00|    2204|              STREET|-118.2564|  33.9721|      T|           79440|   1538809200|    7785|   16301| 1538888640|\n",
      "|row-4vvw-q5n2_nyhf|   310|            BURGLARY|2018-12-08 00:00:00|    1930|MULTI-UNIT DWELLI...|-118.3923|  34.1457|      B|           70200|   1544256000|    7825|   16320| 1544326200|\n",
      "|row-4vvz-xfab.jh5h|   210|             ROBBERY|2019-01-30 00:00:00|    0830|              STREET|  34.1037|-118.1945|      R|           30600|   1548835200|   27087|    4701| 1548865800|\n",
      "|row-4vw6-9adz.m5b5|   626|INTIMATE PARTNER ...|2018-10-10 00:00:00|    2130|SINGLE FAMILY DWE...|-118.2644|  34.0594|     AB|           77400|   1539154800|    7805|   16302| 1539232200|\n",
      "|row-4vw9~pvsr-jnw3|   440|THEFT PLAIN - PET...|2018-11-27 00:00:00|    1300|  PORCH, RESIDENTIAL|-118.3597|   34.054|      T|           46800|   1543305600|    7804|   16316| 1543352400|\n",
      "|row-4vwa_tqct-f3h5|   626|INTIMATE PARTNER ...|2019-01-27 00:00:00|    2325|MULTI-UNIT DWELLI...|-118.3615|  34.1794|     AB|           84300|   1548576000|    7833|   16316| 1548660300|\n",
      "|row-4vwc.i2v6-arb6|   330|BURGLARY FROM VEH...|2018-11-20 00:00:00|    2200|            DRIVEWAY|  34.1969|-118.6315|    BTV|           79200|   1542700800|   27187|    4714| 1542780000|\n",
      "|row-4vwd-8mai~qxh3|   745|VANDALISM - MISDE...|2019-02-18 00:00:00|    1600|VEHICLE, PASSENGE...|-118.2783|  33.9992|    PDT|           57600|   1550476800|    7791|   16304| 1550534400|\n",
      "|row-4vwf-rxxd.ptcf|   626|INTIMATE PARTNER ...|2019-08-14 00:00:00|    0500|MULTI-UNIT DWELLI...|-118.2772|  33.9469|     AB|           18000|   1565766000|    7779|   16304| 1565784000|\n",
      "|row-4vwh_pbbx~dn6f|   745|VANDALISM - MISDE...|2019-03-28 00:00:00|    2200|MULTI-UNIT DWELLI...|-118.4678|   34.216|    PDT|           79200|   1553756400|    7841|   16330| 1553835600|\n",
      "|row-4vwj~5rgs-hwu8|   210|             ROBBERY|2019-01-12 00:00:00|    1340|         OTHER STORE|-118.3745|  34.2027|      R|           49200|   1547280000|    7838|   16318| 1547329200|\n",
      "|row-4vwu.dqqd.artn|   740|VANDALISM - FELON...|2018-11-14 00:00:00|    1730|              STREET|  34.2394|-118.4966|    PDT|           63000|   1542182400|   27156|    4719| 1542245400|\n",
      "|row-4vx2-whpf_azuh|   440|THEFT PLAIN - PET...|2019-07-20 00:00:00|    2315|            SIDEWALK|-118.2415|  34.0449|      T|           83700|   1563606000|    7802|   16299| 1563689700|\n",
      "|row-4vx5_sp3g.tbfk|   740|VANDALISM - FELON...|2018-12-14 00:00:00|    1200|      OTHER BUSINESS|-118.3416|  34.0889|    PDT|           43200|   1544774400|    7812|   16313| 1544817600|\n",
      "|row-4vx5~un8y.4f9p|   121|      RAPE, FORCIBLE|2018-12-03 00:00:00|    1830|MULTI-UNIT DWELLI...|  34.0651|-118.1773|   LTVC|           66600|   1543824000|   27083|    4695| 1543890600|\n",
      "|row-4vx7~8hun~i9au|   510|    VEHICLE - STOLEN|2019-01-29 00:00:00|    2100|              STREET|-118.2781|  33.9428|   VBBS|           75600|   1548748800|    7778|   16304| 1548824400|\n",
      "|row-4vx8-rayt_zeyv|   510|    VEHICLE - STOLEN|2019-01-05 00:00:00|    0600|              STREET|  34.2575|-118.3002|   VBBS|           21600|   1546675200|   27111|    4722| 1546696800|\n",
      "|row-4vxc~z76q.k4hq|   740|VANDALISM - FELON...|2019-08-01 00:00:00|    0900|      OTHER BUSINESS|-118.2647|   34.047|    PDT|           32400|   1564642800|    7802|   16302| 1564675200|\n",
      "|row-4vxd.shxu-5tfd|   626|INTIMATE PARTNER ...|2018-10-15 00:00:00|    2035|MULTI-UNIT DWELLI...|-118.4095|  34.2753|     AB|           74100|   1539586800|    7855|   16322| 1539660900|\n",
      "|row-4vxh_d6yg~b6xi|   510|    VEHICLE - STOLEN|2018-10-04 00:00:00|    1100|              STREET|-118.2867|  33.8773|   VBBS|           39600|   1538636400|    7763|   16306| 1538676000|\n",
      "+------------------+------+--------------------+-------------------+--------+--------------------+---------+---------+-------+----------------+-------------+--------+--------+-----------+\n",
      "only showing top 20 rows\n",
      "\n"
     ]
    }
   ],
   "source": [
    "a.show()"
   ]
  },
  {
   "cell_type": "code",
   "execution_count": null,
   "metadata": {},
   "outputs": [],
   "source": []
  }
 ],
 "metadata": {
  "kernelspec": {
   "display_name": "Python 3",
   "language": "python",
   "name": "python3"
  },
  "language_info": {
   "codemirror_mode": {
    "name": "ipython",
    "version": 3
   },
   "file_extension": ".py",
   "mimetype": "text/x-python",
   "name": "python",
   "nbconvert_exporter": "python",
   "pygments_lexer": "ipython3",
   "version": "3.6.8"
  }
 },
 "nbformat": 4,
 "nbformat_minor": 2
}
