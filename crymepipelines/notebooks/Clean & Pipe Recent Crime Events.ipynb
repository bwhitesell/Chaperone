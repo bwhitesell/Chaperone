{
 "cells": [
  {
   "cell_type": "markdown",
   "metadata": {},
   "source": [
    "## Clean & Pipe Recent Crime Events\n",
    "\n",
    "\n",
    "---\n",
    "Obj: Identify valid crimes for our analysis and pipe them into our web app."
   ]
  },
  {
   "cell_type": "code",
   "execution_count": 1,
   "metadata": {},
   "outputs": [],
   "source": [
    "import os\n",
    "import sys\n",
    "\n",
    "try:\n",
    "    import pyspark\n",
    "except ImportError:\n",
    "    import findspark\n",
    "    findspark.init()\n",
    "    import pyspark\n",
    "    \n",
    "    \n",
    "# give notebook access to crymepipelines app modules\n",
    "CRYMEPIPELINES_PATH = '/home/ben/.envs/cc/CrymeClarity/crymepipelines/src'\n",
    "sys.path.insert(0, CRYMEPIPELINES_PATH)\n",
    "\n",
    "#build spark session\n",
    "APP_NAME = 'CRYME_PIPELINE_DEV'\n",
    "sc = pyspark.SparkContext()\n",
    "spark = pyspark.sql.SparkSession(sc).builder.appName(APP_NAME).getOrCreate()\n"
   ]
  },
  {
   "cell_type": "code",
   "execution_count": 2,
   "metadata": {},
   "outputs": [],
   "source": [
    "# import cyrmepipelines app modules\n",
    "import csv\n",
    "from datetime import datetime, timedelta\n",
    "import os\n",
    "import pickle as p\n",
    "import shutil\n",
    "\n",
    "from shared.objects.samples import SamplesManager\n",
    "from shared.settings import CF_TRUST_DELAY, START_DATE, cf_conn, cp_conn, TMP_DIR, BIN_DIR\n",
    "from tasks.base import SparkCrymeTask, NativeCrymeTask\n",
    "from utils import crime_occ_udf, ts_to_minutes_in_day_udf, ts_to_hour_of_day_udf, ts_to_day_of_week_udf, ts_conv, safety_rel_crimes\n",
    "from tasks.mixins import SearchForCrimesMixin"
   ]
  },
  {
   "cell_type": "code",
   "execution_count": 3,
   "metadata": {},
   "outputs": [],
   "source": [
    "raw_crime_incidents = SparkCrymeTask(spark).load_df_from_crymefeeder(\"incidents\")"
   ]
  },
  {
   "cell_type": "code",
   "execution_count": 4,
   "metadata": {},
   "outputs": [
    {
     "data": {
      "text/plain": [
       "1959459"
      ]
     },
     "execution_count": 4,
     "metadata": {},
     "output_type": "execute_result"
    }
   ],
   "source": [
    "raw_crime_incidents.count()"
   ]
  },
  {
   "cell_type": "code",
   "execution_count": 5,
   "metadata": {},
   "outputs": [
    {
     "name": "stdout",
     "output_type": "stream",
     "text": [
      "+---------------------------+---------------------------+---------------------------+---------------------------+---------------------------+---------------------------+--------------------+------------------+--------------------+-----------------+------------------+-------+---------+------+--------+--------+--------+--------------------+------------+--------------------+--------------------+---------+--------------------+--------------------+-------+---------+--------------------+--------------------+-----------+------+-----------+--------+--------+------------+--------+--------------------+--------------+\n",
      "|:@computed_region_2dna_qi2s|:@computed_region_k96s_3jcv|:@computed_region_kqwf_mjcx|:@computed_region_qz3q_ghft|:@computed_region_tatf_ua23|:@computed_region_ur2y_g4cx|         :created_at|               :id|         :updated_at|         :version|               _id|area_id|area_name|crm_cd|crm_cd_1|crm_cd_2|crm_cd_3|         crm_cd_desc|cross_street|            date_occ|           date_rptd|    dr_no|            location|          location_1|mocodes|premis_cd|         premis_desc|  record_inserted_at|rpt_dist_no|status|status_desc|time_occ|vict_age|vict_descent|vict_sex|         weapon_desc|weapon_used_cd|\n",
      "+---------------------------+---------------------------+---------------------------+---------------------------+---------------------------+---------------------------+--------------------+------------------+--------------------+-----------------+------------------+-------+---------+------+--------+--------+--------+--------------------+------------+--------------------+--------------------+---------+--------------------+--------------------+-------+---------+--------------------+--------------------+-----------+------+-----------+--------+--------+------------+--------+--------------------+--------------+\n",
      "|                         75|                        874|                          6|                      24029|                        826|                          9|2017-11-07T21:14:...|row-2222_5uce_gqap|2017-11-07T21:23:...|rv-xukq~yxmi~wgyi|row-2222_5uce_gqap|     08|  West LA|   860|     860|    null|    null|BATTERY WITH SEXU...|        null|2010-01-26T00:00:...|2010-01-27T00:00:...|100805165|3200    MOTOR    ...|[Point, [-118.411...|   null|      729|SPECIALTY SCHOOL/...|2019-05-06 07:37:...|       0895|    IC|Invest Cont|    1345|      16|           W|       M|STRONG-ARM (HANDS...|           400|\n",
      "+---------------------------+---------------------------+---------------------------+---------------------------+---------------------------+---------------------------+--------------------+------------------+--------------------+-----------------+------------------+-------+---------+------+--------+--------+--------+--------------------+------------+--------------------+--------------------+---------+--------------------+--------------------+-------+---------+--------------------+--------------------+-----------+------+-----------+--------+--------+------------+--------+--------------------+--------------+\n",
      "only showing top 1 row\n",
      "\n"
     ]
    }
   ],
   "source": [
    "raw_crime_incidents.show(1)"
   ]
  },
  {
   "cell_type": "markdown",
   "metadata": {},
   "source": [
    "Thats a lotta data, lets just look at rows with \"date occ\" within the last 30 days."
   ]
  },
  {
   "cell_type": "code",
   "execution_count": 6,
   "metadata": {},
   "outputs": [],
   "source": [
    "crime_incidents = raw_crime_incidents.withColumn('date_occ', ts_conv(raw_crime_incidents.date_occ))\n",
    "crime_incidents = crime_incidents.filter(crime_incidents.date_occ > datetime.now().date() - timedelta(days=30))"
   ]
  },
  {
   "cell_type": "markdown",
   "metadata": {},
   "source": [
    "#### Crime Types"
   ]
  },
  {
   "cell_type": "code",
   "execution_count": 7,
   "metadata": {},
   "outputs": [
    {
     "name": "stdout",
     "output_type": "stream",
     "text": [
      "+--------------------------------------------------------+----------+-------------+\n",
      "|crm_cd_desc                                             |count(_id)|first(crm_cd)|\n",
      "+--------------------------------------------------------+----------+-------------+\n",
      "|DISHONEST EMPLOYEE - GRAND THEFT                        |1         |345          |\n",
      "|EMBEZZLEMENT, PETTY THEFT ($950 & UNDER)                |1         |670          |\n",
      "|ILLEGAL DUMPING                                         |1         |949          |\n",
      "|DRIVING WITHOUT OWNER CONSENT (DWOC)                    |1         |433          |\n",
      "|SEX,UNLAWFUL(INC MUTUAL CONSENT, PENETRATION W/ FRGN OBJ|1         |810          |\n",
      "|TILL TAP - PETTY ($950 & UNDER)                         |1         |471          |\n",
      "|PIMPING                                                 |1         |805          |\n",
      "|CHILD STEALING                                          |1         |922          |\n",
      "|BIKE - ATTEMPTED STOLEN                                 |1         |485          |\n",
      "|PURSE SNATCHING - ATTEMPT                               |1         |451          |\n",
      "|BATTERY ON A FIREFIGHTER                                |1         |622          |\n",
      "|FAILURE TO YIELD                                        |1         |890          |\n",
      "|DOCUMENT WORTHLESS ($200 & UNDER)                       |1         |652          |\n",
      "|TILL TAP - GRAND THEFT ($950.01 & OVER)                 |1         |470          |\n",
      "|COUNTERFEIT                                             |2         |660          |\n",
      "|BOAT - STOLEN                                           |2         |487          |\n",
      "|RECKLESS DRIVING                                        |2         |438          |\n",
      "|PANDERING                                               |2         |806          |\n",
      "|FALSE IMPRISONMENT                                      |2         |434          |\n",
      "|CREDIT CARDS, FRAUD USE ($950.01 & OVER)                |2         |653          |\n",
      "|CRUELTY TO ANIMALS                                      |2         |943          |\n",
      "|BUNCO, ATTEMPT                                          |2         |666          |\n",
      "|HUMAN TRAFFICKING - COMMERCIAL SEX ACTS                 |3         |822          |\n",
      "|CHILD ANNOYING (17YRS & UNDER)                          |3         |813          |\n",
      "|LEWD/LASCIVIOUS ACTS WITH CHILD                         |3         |760          |\n",
      "|UNAUTHORIZED COMPUTER ACCESS                            |3         |661          |\n",
      "|PROWLER                                                 |3         |933          |\n",
      "|CHILD ABANDONMENT                                       |3         |870          |\n",
      "|CHILD PORNOGRAPHY                                       |3         |814          |\n",
      "|EMBEZZLEMENT, GRAND THEFT ($950.01 & OVER)              |3         |668          |\n",
      "|SHOTS FIRED AT MOVING VEHICLE, TRAIN OR AIRCRAFT        |4         |250          |\n",
      "|KIDNAPPING - GRAND ATTEMPT                              |4         |920          |\n",
      "|BOMB SCARE                                              |4         |755          |\n",
      "|SHOPLIFTING - ATTEMPT                                   |4         |443          |\n",
      "|THEFT FROM PERSON - ATTEMPT                             |5         |450          |\n",
      "|RAPE, ATTEMPTED                                         |5         |122          |\n",
      "|ASSAULT WITH DEADLY WEAPON ON POLICE OFFICER            |5         |231          |\n",
      "|PURSE SNATCHING                                         |5         |351          |\n",
      "|STALKING                                                |6         |763          |\n",
      "|CHILD ABUSE (PHYSICAL) - AGGRAVATED ASSAULT             |6         |235          |\n",
      "|PEEPING TOM                                             |6         |932          |\n",
      "|THEFT PLAIN - ATTEMPT                                   |7         |441          |\n",
      "|ORAL COPULATION                                         |7         |820          |\n",
      "|THROWING OBJECT AT MOVING VEHICLE                       |7         |647          |\n",
      "|THREATENING PHONE CALLS/LETTERS                         |7         |928          |\n",
      "|SEXUAL PENETRATION W/FOREIGN OBJECT                     |8         |815          |\n",
      "|KIDNAPPING                                              |8         |910          |\n",
      "|THEFT FROM MOTOR VEHICLE - ATTEMPT                      |9         |421          |\n",
      "|LEWD CONDUCT                                            |9         |762          |\n",
      "|BURGLARY FROM VEHICLE, ATTEMPTED                        |9         |410          |\n",
      "|CRIMINAL HOMICIDE                                       |10        |110          |\n",
      "|CHILD NEGLECT (SEE 300 W.I.C.)                          |10        |237          |\n",
      "|PICKPOCKET                                              |11        |352          |\n",
      "|SHOTS FIRED AT INHABITED DWELLING                       |11        |251          |\n",
      "|DEFRAUDING INNKEEPER/THEFT OF SERVICES, $400 & UNDER    |12        |951          |\n",
      "|CRM AGNST CHLD (13 OR UNDER) (14-15 & SUSP 10 YRS OLDER)|12        |812          |\n",
      "|VEHICLE - ATTEMPT STOLEN                                |16        |520          |\n",
      "|INDECENT EXPOSURE                                       |16        |850          |\n",
      "|EXTORTION                                               |17        |940          |\n",
      "|DOCUMENT FORGERY / STOLEN FELONY                        |18        |649          |\n",
      "|RESISTING ARREST                                        |18        |437          |\n",
      "|ARSON                                                   |20        |648          |\n",
      "|DISTURBING THE PEACE                                    |21        |886          |\n",
      "|DISCHARGE FIREARMS/SHOTS FIRED                          |22        |753          |\n",
      "|VIOLATION OF TEMPORARY RESTRAINING ORDER                |22        |902          |\n",
      "|CHILD ABUSE (PHYSICAL) - SIMPLE ASSAULT                 |26        |627          |\n",
      "|CONTEMPT OF COURT                                       |28        |903          |\n",
      "|RAPE, FORCIBLE                                          |30        |121          |\n",
      "|BATTERY POLICE (SIMPLE)                                 |33        |623          |\n",
      "|BUNCO, PETTY THEFT                                      |33        |664          |\n",
      "|OTHER ASSAULT                                           |38        |625          |\n",
      "|SHOPLIFTING-GRAND THEFT ($950.01 & OVER)                |42        |343          |\n",
      "|BATTERY WITH SEXUAL CONTACT                             |42        |860          |\n",
      "|LETTERS, LEWD  -  TELEPHONE CALLS, LEWD                 |49        |956          |\n",
      "|BUNCO, GRAND THEFT                                      |50        |662          |\n",
      "|ATTEMPTED ROBBERY                                       |53        |220          |\n",
      "|BURGLARY, ATTEMPTED                                     |54        |320          |\n",
      "|VIOLATION OF COURT ORDER                                |65        |900          |\n",
      "|OTHER MISCELLANEOUS CRIME                               |69        |946          |\n",
      "|THEFT, PERSON                                           |73        |350          |\n",
      "|BIKE - STOLEN                                           |86        |480          |\n",
      "|BRANDISH WEAPON                                         |103       |761          |\n",
      "|VIOLATION OF RESTRAINING ORDER                          |118       |901          |\n",
      "|THEFT FROM MOTOR VEHICLE - GRAND ($400 AND OVER)        |124       |331          |\n",
      "|INTIMATE PARTNER - AGGRAVATED ASSAULT                   |125       |236          |\n",
      "|THEFT OF IDENTITY                                       |154       |354          |\n",
      "|TRESPASSING                                             |165       |888          |\n",
      "|THEFT-GRAND ($950.01 & OVER)EXCPT,GUNS,FOWL,LIVESTK,PROD|240       |341          |\n",
      "|CRIMINAL THREATS - NO WEAPON DISPLAYED                  |249       |930          |\n",
      "|SHOPLIFTING - PETTY THEFT ($950 & UNDER)                |269       |442          |\n",
      "|VANDALISM - MISDEAMEANOR ($399 OR UNDER)                |334       |745          |\n",
      "|THEFT FROM MOTOR VEHICLE - PETTY ($950 & UNDER)         |374       |420          |\n",
      "|ROBBERY                                                 |393       |210          |\n",
      "|ASSAULT WITH DEADLY WEAPON, AGGRAVATED ASSAULT          |502       |230          |\n",
      "|THEFT PLAIN - PETTY ($950 & UNDER)                      |526       |440          |\n",
      "|INTIMATE PARTNER - SIMPLE ASSAULT                       |538       |626          |\n",
      "|BURGLARY                                                |552       |310          |\n",
      "|VANDALISM - FELONY ($400 & OVER, ALL CHURCH VANDALISMS) |597       |740          |\n",
      "|VEHICLE - STOLEN                                        |666       |510          |\n",
      "|BURGLARY FROM VEHICLE                                   |774       |330          |\n",
      "|BATTERY - SIMPLE ASSAULT                                |836       |624          |\n",
      "+--------------------------------------------------------+----------+-------------+\n",
      "\n"
     ]
    }
   ],
   "source": [
    "by_type = crime_incidents.groupBy('crm_cd_desc').agg({'_id': 'count', 'crm_cd': 'first'}).orderBy(\"count(_id)\")\n",
    "by_type.show(by_type.count(), False)"
   ]
  },
  {
   "cell_type": "markdown",
   "metadata": {},
   "source": [
    "So not all of these seem like real \"safety\" threats, for example \"Theft of Identity\". I think I should create a datastructure containing all crime_cd_descs or crime_cds that could be considered violent or threatening. (Added to utils.py)"
   ]
  },
  {
   "cell_type": "code",
   "execution_count": 15,
   "metadata": {},
   "outputs": [],
   "source": [
    "crime_incidents = crime_incidents.filter(crime_incidents.crm_cd.isin(list(safety_rel_crimes.keys())))"
   ]
  },
  {
   "cell_type": "markdown",
   "metadata": {},
   "source": [
    "Finally, there are a bunch of columns that dont seem too interesting so lets drop those and flatten the coordinates."
   ]
  },
  {
   "cell_type": "code",
   "execution_count": 22,
   "metadata": {},
   "outputs": [],
   "source": [
    "crime_incidents = crime_incidents.withColumn('Latitude', crime_incidents.location_1.coordinates[0])\n",
    "crime_incidents = crime_incidents.withColumn('Longitude', crime_incidents.location_1.coordinates[1])"
   ]
  },
  {
   "cell_type": "code",
   "execution_count": 23,
   "metadata": {},
   "outputs": [
    {
     "data": {
      "text/plain": [
       "Row(:@computed_region_2dna_qi2s='1', :@computed_region_k96s_3jcv='492', :@computed_region_kqwf_mjcx='11', :@computed_region_qz3q_ghft='23448', :@computed_region_tatf_ua23='943', :@computed_region_ur2y_g4cx='1', :created_at='2019-05-01T13:41:45.118Z', :id='row-223w_rk24-nys2', :updated_at='2019-05-01T13:48:47.496Z', :version='rv-ewhu.6nd5_2v5a', _id='row-223w_rk24-nys2', area_id='04', area_name='Hollenbeck', crm_cd='510', crm_cd_1='510', crm_cd_2=None, crm_cd_3=None, crm_cd_desc='VEHICLE - STOLEN', cross_street=None, date_occ=datetime.datetime(2019, 4, 13, 0, 0), date_rptd='2019-04-14T00:00:00.000', dr_no='190408547', location='600    MOULTON                      AV', location_1=Row(type='Point', coordinates=[-118.2189, 34.066]), mocodes=None, premis_cd='108', premis_desc='PARKING LOT', record_inserted_at=datetime.datetime(2019, 5, 6, 7, 49, 53, 400000), rpt_dist_no='0421', status='IC', status_desc='Invest Cont', time_occ='2330', vict_age='0', vict_descent=None, vict_sex=None, weapon_desc=None, weapon_used_cd=None, Latitude=-118.2189, Longitude=34.066)"
      ]
     },
     "execution_count": 23,
     "metadata": {},
     "output_type": "execute_result"
    }
   ],
   "source": [
    "crime_incidents.first()"
   ]
  },
  {
   "cell_type": "code",
   "execution_count": 25,
   "metadata": {},
   "outputs": [
    {
     "data": {
      "text/plain": [
       "Row(_id='row-223w_rk24-nys2', crm_cd='510', crm_cd_desc='VEHICLE - STOLEN', date_occ=datetime.datetime(2019, 4, 13, 0, 0), time_occ='2330', longitude=34.066, latitude=-118.2189)"
      ]
     },
     "execution_count": 25,
     "metadata": {},
     "output_type": "execute_result"
    }
   ],
   "source": [
    "crime_incidents = crime_incidents.select(['_id', 'crm_cd', 'crm_cd_desc', 'date_occ', 'time_occ', 'premis_desc', 'longitude', 'latitude'])"
   ]
  },
  {
   "cell_type": "code",
   "execution_count": null,
   "metadata": {},
   "outputs": [],
   "source": []
  }
 ],
 "metadata": {
  "kernelspec": {
   "display_name": "Python 3",
   "language": "python",
   "name": "python3"
  },
  "language_info": {
   "codemirror_mode": {
    "name": "ipython",
    "version": 3
   },
   "file_extension": ".py",
   "mimetype": "text/x-python",
   "name": "python",
   "nbconvert_exporter": "python",
   "pygments_lexer": "ipython3",
   "version": "3.6.8"
  }
 },
 "nbformat": 4,
 "nbformat_minor": 2
}
