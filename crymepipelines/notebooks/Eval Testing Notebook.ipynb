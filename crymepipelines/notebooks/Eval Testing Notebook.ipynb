{
 "cells": [
  {
   "cell_type": "code",
   "execution_count": 1,
   "metadata": {},
   "outputs": [],
   "source": [
    "import os\n",
    "import sys\n",
    "\n",
    "try:\n",
    "    import pyspark\n",
    "except ImportError:\n",
    "    import findspark\n",
    "    findspark.init()\n",
    "    import pyspark\n",
    "    \n",
    "    \n",
    "# give notebook access to crymepipelines app modules\n",
    "CRYMEPIPELINES_PATH = '/home/ben/.envs/cc/CrymeClarity/crymepipelines/src'\n",
    "sys.path.insert(0, CRYMEPIPELINES_PATH)\n",
    "\n",
    "#build spark session\n",
    "APP_NAME = 'CRYME_PIPELINE_DEV'\n",
    "sc = pyspark.SparkContext()\n",
    "spark = pyspark.sql.SparkSession(sc).builder.appName(APP_NAME).getOrCreate()\n"
   ]
  },
  {
   "cell_type": "code",
   "execution_count": 143,
   "metadata": {},
   "outputs": [],
   "source": [
    "# import cyrmepipelines app modules\n",
    "import csv\n",
    "from datetime import datetime, timedelta\n",
    "import os\n",
    "import pickle as p\n",
    "import shutil\n",
    "import pandas as pd\n",
    "from sklearn.metrics import log_loss\n",
    "import numpy as np\n",
    "\n",
    "from shared.objects.samples import SamplesManager\n",
    "from shared.settings import CF_TRUST_DELAY, START_DATE, cf_conn, cp_conn, TMP_DIR, BIN_DIR\n",
    "from tasks.base import SparkCrymeTask, NativeCrymeTask\n",
    "from utils import crime_occ_udf, ts_to_minutes_in_day_udf, ts_to_hour_of_day_udf, ts_to_day_of_week_udf, ts_conv, safety_rel_crimes\n",
    "from tasks.mixins import SearchForCrimesMixin\n"
   ]
  },
  {
   "cell_type": "code",
   "execution_count": 144,
   "metadata": {},
   "outputs": [],
   "source": [
    "features = ['longitude', 'latitude', 'time_minutes']\n",
    "target = 'crime_occ'\n",
    "\n",
    "df = pd.read_csv(CRYMEPIPELINES_PATH + '/tmp/eval_dataset.csv')\n"
   ]
  },
  {
   "cell_type": "code",
   "execution_count": 145,
   "metadata": {},
   "outputs": [],
   "source": [
    "df = pd.read_csv(CRYMEPIPELINES_PATH + '/tmp/eval_dataset.csv')\n",
    "df['day'] = df.timestamp.apply(lambda x: datetime.strptime(x, '%Y-%m-%d %H:%M:%S').date())\n",
    "clf = p.load(open(CRYMEPIPELINES_PATH + '/../bin/cryme_classifier_2019-05-25_n_ab.p', 'rb'))"
   ]
  },
  {
   "cell_type": "code",
   "execution_count": 146,
   "metadata": {},
   "outputs": [],
   "source": [
    "features = ['longitude', 'latitude', 'time_minutes']\n"
   ]
  },
  {
   "cell_type": "code",
   "execution_count": 147,
   "metadata": {},
   "outputs": [
    {
     "name": "stderr",
     "output_type": "stream",
     "text": [
      "/home/ben/.envs/cc/lib/python3.6/site-packages/ipykernel_launcher.py:4: RuntimeWarning: divide by zero encountered in log\n",
      "  after removing the cwd from sys.path.\n"
     ]
    }
   ],
   "source": [
    "preds = clf.predict_proba(df[features])\n",
    "df['preds_neg'] = preds[:, 0]\n",
    "df['preds_pos'] = preds[:, 1]\n",
    "df['log_loss'] = -1 * ((1 - df.n_ab) * np.log(df.preds_neg) + (df.n_ab) * np.log(df.preds_pos))\n",
    "df.loc[:, 'log_loss'] = df.log_loss.fillna(0)"
   ]
  },
  {
   "cell_type": "code",
   "execution_count": 148,
   "metadata": {},
   "outputs": [
    {
     "data": {
      "text/plain": [
       "[<matplotlib.lines.Line2D at 0x7fbdfe07c320>]"
      ]
     },
     "execution_count": 148,
     "metadata": {},
     "output_type": "execute_result"
    },
    {
     "data": {
      "image/png": "[encoded data removed]",
      "text/plain": [
       "<Figure size 432x288 with 1 Axes>"
      ]
     },
     "metadata": {
      "needs_background": "light"
     },
     "output_type": "display_data"
    }
   ],
   "source": [
    "%matplotlib inline\n",
    "from matplotlib import pyplot as plt\n",
    "plt.plot(df.groupby('day').log_loss.mean())"
   ]
  },
  {
   "cell_type": "code",
   "execution_count": 149,
   "metadata": {},
   "outputs": [
    {
     "data": {
      "text/plain": [
       "Index(['id', 'latitude', 'longitude', 'timestamp', 'lat_bb', 'lon_bb',\n",
       "       'timestamp_unix', 'n_ab', 'n_b', 'n_t', 'n_btv', 'n_vbbs', 'n_pdt',\n",
       "       'n_ltvc', 'n_sp', 'n_mio', 'n_r', 'time_minutes', 'day_of_week', 'day',\n",
       "       'preds_neg', 'preds_pos', 'log_loss'],\n",
       "      dtype='object')"
      ]
     },
     "execution_count": 149,
     "metadata": {},
     "output_type": "execute_result"
    }
   ],
   "source": [
    "df.columns"
   ]
  },
  {
   "cell_type": "code",
   "execution_count": 150,
   "metadata": {},
   "outputs": [],
   "source": [
    "df = df.groupby('day').log_loss.mean().reset_index()"
   ]
  },
  {
   "cell_type": "code",
   "execution_count": 155,
   "metadata": {},
   "outputs": [
    {
     "data": {
      "text/plain": [
       "'2019-06-19'"
      ]
     },
     "execution_count": 155,
     "metadata": {},
     "output_type": "execute_result"
    }
   ],
   "source": [
    "str(df.values[0][0])"
   ]
  },
  {
   "cell_type": "code",
   "execution_count": null,
   "metadata": {},
   "outputs": [],
   "source": []
  }
 ],
 "metadata": {
  "kernelspec": {
   "display_name": "Python 3",
   "language": "python",
   "name": "python3"
  },
  "language_info": {
   "codemirror_mode": {
    "name": "ipython",
    "version": 3
   },
   "file_extension": ".py",
   "mimetype": "text/x-python",
   "name": "python",
   "nbconvert_exporter": "python",
   "pygments_lexer": "ipython3",
   "version": "3.6.8"
  }
 },
 "nbformat": 4,
 "nbformat_minor": 2
}
