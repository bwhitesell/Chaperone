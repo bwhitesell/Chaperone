{
 "cells": [
  {
   "cell_type": "code",
   "execution_count": null,
   "metadata": {},
   "outputs": [],
   "source": [
    "import os\n",
    "import sys\n",
    "import numpy as np\n",
    "from matplotlib import pyplot as plt\n",
    "\n",
    "try:\n",
    "    import pyspark\n",
    "except ImportError:\n",
    "    import findspark\n",
    "    findspark.init()\n",
    "    import pyspark\n",
    "    \n",
    "    \n",
    "# give notebook access to crymepipelines app modules\n",
    "CRYMEPIPELINES_PATH = '/home/ben/.envs/cc/CrymeClarity/crymepipelines/src'\n",
    "sys.path.insert(0, CRYMEPIPELINES_PATH)\n",
    "sys.path.insert(1, CRYMEPIPELINES_PATH+'/tasks')\n",
    "\n",
    "\n",
    "#build spark session\n",
    "APP_NAME = 'CRYME_PIPELINE_DEV'\n",
    "sc = pyspark.SparkContext()\n",
    "spark = pyspark.sql.SparkSession(sc).builder.appName(APP_NAME).getOrCreate()\n"
   ]
  },
  {
   "cell_type": "code",
   "execution_count": null,
   "metadata": {},
   "outputs": [],
   "source": [
    "# import cyrmepipelines app modules\n",
    "import csv\n",
    "from datetime import datetime, timedelta\n",
    "import os\n",
    "import pickle as p\n",
    "import shutil\n",
    "from pyspark.sql.functions import udf, unix_timestamp\n",
    "from pyspark.sql.types import StringType\n",
    "\n",
    "from shared.objects.samples import SamplesManager\n",
    "from shared.settings import CF_TRUST_DELAY, START_DATE, cf_conn, cp_conn, TMP_DIR, BIN_DIR\n",
    "from tasks.base import SparkCrymeTask, NativeCrymeTask\n",
    "from utils import crime_occ_udf, ts_to_minutes_in_day_udf, ts_to_hour_of_day_udf, ts_to_day_of_week_udf, ts_conv, safety_rel_crimes, actb_lat, actb_lon, space_dist\n",
    "from tasks.mixins import SearchForCrimesMixin\n",
    "from tasks.constants import crime_group_mapping"
   ]
  },
  {
   "cell_type": "code",
   "execution_count": null,
   "metadata": {},
   "outputs": [],
   "source": [
    "crime_incidents = spark.read.parquet(CRYMEPIPELINES_PATH+'/tmp/features_crime_incidents.parquet')\n",
    "loc_time_samples = SparkCrymeTask(spark).load_df_from_cp('location_time_samples')"
   ]
  },
  {
   "cell_type": "code",
   "execution_count": null,
   "metadata": {},
   "outputs": [],
   "source": [
    "loc_time_samples = loc_time_samples.withColumn('lat_bb', actb_lat(loc_time_samples.latitude))\n",
    "loc_time_samples = loc_time_samples.withColumn('lon_bb', actb_lon(loc_time_samples.longitude))\n",
    "# convert datetime to unix timestamp\n",
    "loc_time_samples = loc_time_samples.withColumn('timestamp_unix', unix_timestamp(loc_time_samples.timestamp))"
   ]
  },
  {
   "cell_type": "code",
   "execution_count": null,
   "metadata": {},
   "outputs": [],
   "source": [
    "results = None\n",
    "for i in range(-1, 2):\n",
    "    for j in range(-1, 2):\n",
    "        subsample = loc_time_samples.withColumn('lat_bb', loc_time_samples.lat_bb + i)\n",
    "        subsample = subsample.withColumn('lon_bb', loc_time_samples.lon_bb + j)\n",
    "\n",
    "        results_subsample = subsample.join(\n",
    "            crime_incidents,\n",
    "            (subsample.lat_bb == crime_incidents.lat_bb_c) & (subsample.lon_bb == crime_incidents.lon_bb_c)\n",
    "        )\n",
    "\n",
    "        results_subsample = results_subsample.filter(\n",
    "            results_subsample.ts_occ_unix - results_subsample.timestamp_unix < 3600\n",
    "        )\n",
    "        results_subsample = results_subsample.filter(\n",
    "            results_subsample.ts_occ_unix - results_subsample.timestamp_unix > 0\n",
    "        )\n",
    "\n",
    "        results_subsample = results_subsample.withColumn('distance', space_dist(\n",
    "            results_subsample.longitude,\n",
    "            results_subsample.latitude,\n",
    "            results_subsample.lon,\n",
    "            results_subsample.lat,\n",
    "        ))\n",
    "\n",
    "        results_subsample = results_subsample.filter(results_subsample.distance < .25)\n",
    "        results = results.union(results_subsample) if results else results_subsample"
   ]
  },
  {
   "cell_type": "code",
   "execution_count": null,
   "metadata": {},
   "outputs": [],
   "source": [
    "results = results.groupBy(\"id\", \"crm_grp\").count()"
   ]
  },
  {
   "cell_type": "code",
   "execution_count": null,
   "metadata": {},
   "outputs": [],
   "source": [
    "results = results.withColumn('n_ab', udf(lambda x: 1 if x == 'AB' else 0)(results.crm_grp))\n",
    "results = results.withColumn('n_bt', udf(lambda x: 1 if x == 'BT' else 0)(results.crm_grp))\n",
    "results = results.withColumn('n_btv', udf(lambda x: 1 if x == 'BTV' else 0)(results.crm_grp))\n",
    "results = results.withColumn('n_vbbs', udf(lambda x: 1 if x == 'VBBS' else 0)(results.crm_grp))\n",
    "results = results.withColumn('n_pdt', udf(lambda x: 1 if x == 'PDT' else 0)(results.crm_grp))\n",
    "results = results.withColumn('n_ltvc', udf(lambda x: 1 if x == 'LTVC' else 0)(results.crm_grp))\n",
    "results = results.withColumn('n_sp', udf(lambda x: 1 if x == 'SP' else 0)(results.crm_grp))\n",
    "results = results.withColumn('n_mio', udf(lambda x: 1 if x == 'MIO' else 0)(results.crm_grp))\n",
    "results = results.withColumn('n_r', udf(lambda x: 1 if x == 'R' else 0)(results.crm_grp))"
   ]
  },
  {
   "cell_type": "code",
   "execution_count": null,
   "metadata": {},
   "outputs": [],
   "source": [
    "results = results.groupBy(\"id\").agg({\n",
    "    'n_ab': 'sum',\n",
    "    'n_bt': 'sum',\n",
    "    'n_btv': 'sum',\n",
    "    'n_vbbs': 'sum',\n",
    "    'n_pdt': 'sum',\n",
    "    'n_ltvc': 'sum',\n",
    "    'n_sp': 'sum',\n",
    "    'n_mio': 'sum',\n",
    "    'n_r': 'sum'\n",
    "})"
   ]
  },
  {
   "cell_type": "code",
   "execution_count": null,
   "metadata": {},
   "outputs": [],
   "source": [
    "dataset = loc_time_samples.join(results, \"id\", \"left_outer\")\n"
   ]
  },
  {
   "cell_type": "code",
   "execution_count": null,
   "metadata": {},
   "outputs": [],
   "source": [
    "dataset = dataset.fillna(0, subset=['sum(n_mio)', 'sum(n_btv)', 'sum(n_vbbs)', 'sum(n_pdt)', 'sum(n_bt)',\n",
    "                          'sum(n_ltvc)', 'sum(n_r)', 'sum(n_sp)','sum(n_ab)'])\n"
   ]
  },
  {
   "cell_type": "code",
   "execution_count": 16,
   "metadata": {},
   "outputs": [
    {
     "data": {
      "text/plain": [
       "<matplotlib.collections.PathCollection at 0x7f853feab668>"
      ]
     },
     "execution_count": 16,
     "metadata": {},
     "output_type": "execute_result"
    },
    {
     "data": {
      "image/png": "[encoded data removed]",
      "text/plain": [
       "<Figure size 432x288 with 1 Axes>"
      ]
     },
     "metadata": {
      "needs_background": "light"
     },
     "output_type": "display_data"
    }
   ],
   "source": [
    "import pandas as pd\n",
    "from matplotlib import pyplot as plt\n",
    "%matplotlib inline\n",
    "df = pd.read_csv('/home/ben/.envs/cc/CrymeClarity/crymepipelines/src/tmp/complete_dataset.csv')\n",
    "e = df[df['n_ab']>0]\n",
    "\n",
    "plt.scatter(e.latitude, e.longitude)"
   ]
  },
  {
   "cell_type": "code",
   "execution_count": 17,
   "metadata": {},
   "outputs": [
    {
     "data": {
      "text/plain": [
       "(957, 18)"
      ]
     },
     "execution_count": 17,
     "metadata": {},
     "output_type": "execute_result"
    }
   ],
   "source": [
    "e.shape"
   ]
  },
  {
   "cell_type": "code",
   "execution_count": null,
   "metadata": {},
   "outputs": [],
   "source": []
  }
 ],
 "metadata": {
  "kernelspec": {
   "display_name": "Python 3",
   "language": "python",
   "name": "python3"
  },
  "language_info": {
   "codemirror_mode": {
    "name": "ipython",
    "version": 3
   },
   "file_extension": ".py",
   "mimetype": "text/x-python",
   "name": "python",
   "nbconvert_exporter": "python",
   "pygments_lexer": "ipython3",
   "version": "3.6.8"
  }
 },
 "nbformat": 4,
 "nbformat_minor": 2
}
