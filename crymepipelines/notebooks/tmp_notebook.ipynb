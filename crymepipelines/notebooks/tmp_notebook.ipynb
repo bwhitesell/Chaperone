{
 "cells": [
  {
   "cell_type": "code",
   "execution_count": 1,
   "metadata": {},
   "outputs": [],
   "source": [
    "import os\n",
    "import sys\n",
    "import numpy as np\n",
    "from matplotlib import pyplot as plt\n",
    "\n",
    "try:\n",
    "    import pyspark\n",
    "except ImportError:\n",
    "    import findspark\n",
    "    findspark.init()\n",
    "    import pyspark\n",
    "    \n",
    "    \n",
    "# give notebook access to crymepipelines app modules\n",
    "CRYMEPIPELINES_PATH = '/home/ben/.envs/cc/CrymeClarity/crymepipelines/src'\n",
    "sys.path.insert(0, CRYMEPIPELINES_PATH)\n",
    "sys.path.insert(1, CRYMEPIPELINES_PATH+'/tasks')\n",
    "\n",
    "\n",
    "#build spark session\n",
    "APP_NAME = 'CRYME_PIPELINE_DEV'\n",
    "sc = pyspark.SparkContext()\n",
    "spark = pyspark.sql.SparkSession(sc).builder.appName(APP_NAME).getOrCreate()\n"
   ]
  },
  {
   "cell_type": "code",
   "execution_count": 2,
   "metadata": {},
   "outputs": [],
   "source": [
    "# import cyrmepipelines app modules\n",
    "import csv\n",
    "from datetime import datetime, timedelta\n",
    "import os\n",
    "import pickle as p\n",
    "import shutil\n",
    "from pyspark.sql.functions import udf, unix_timestamp\n",
    "from pyspark.sql.types import StringType\n",
    "\n",
    "from shared.objects.samples import SamplesManager\n",
    "from shared.settings import CF_TRUST_DELAY, START_DATE, cf_conn, cp_conn, TMP_DIR, BIN_DIR\n",
    "from tasks.base import SparkCrymeTask, NativeCrymeTask\n",
    "from utils import crime_occ_udf, ts_to_minutes_in_day_udf, ts_to_hour_of_day_udf, ts_to_day_of_week_udf, ts_conv, safety_rel_crimes, actb_lat, actb_lon, space_dist\n",
    "from tasks.mixins import SearchForCrimesMixin\n",
    "from tasks.constants import crime_group_mapping"
   ]
  },
  {
   "cell_type": "code",
   "execution_count": 6,
   "metadata": {},
   "outputs": [],
   "source": [
    "crime_incidents = spark.read.parquet(CRYMEPIPELINES_PATH+'/tmp/features_crime_incidents.parquet')\n",
    "loc_time_samples = SparkCrymeTask(spark).load_df_from_cp('location_time_samples')"
   ]
  },
  {
   "cell_type": "code",
   "execution_count": 31,
   "metadata": {},
   "outputs": [
    {
     "data": {
      "text/plain": [
       "95"
      ]
     },
     "execution_count": 31,
     "metadata": {},
     "output_type": "execute_result"
    }
   ],
   "source": [
    "e.count()"
   ]
  },
  {
   "cell_type": "code",
   "execution_count": 30,
   "metadata": {},
   "outputs": [
    {
     "name": "stdout",
     "output_type": "stream",
     "text": [
      "+------------------+------+--------------------+-------------------+--------+--------------------+-------+---------+-------+----------------+-------------+--------+--------+-----------+\n",
      "|               _id|crm_cd|         crm_cd_desc|           date_occ|time_occ|         premis_desc|    lon|      lat|crm_grp|time_occ_seconds|date_occ_unix|lat_bb_c|lon_bb_c|ts_occ_unix|\n",
      "+------------------+------+--------------------+-------------------+--------+--------------------+-------+---------+-------+----------------+-------------+--------+--------+-----------+\n",
      "|row-5gky~8gjy~mxnu|   343|SHOPLIFTING-GRAND...|2019-04-09 00:00:00|    1750|      OTHER BUSINESS|34.0605|-118.4193|     SP|           64200|   1554793200|   27138|    4695| 1554857400|\n",
      "|row-5mqp_h2v9_5ms5|   442|SHOPLIFTING - PET...|2019-01-20 00:00:00|    1730|    DEPARTMENT STORE|34.0605|-118.4193|     SP|           63000|   1547971200|   27138|    4695| 1548034200|\n",
      "|row-5wxx~eieb.2jxk|   442|SHOPLIFTING - PET...|2018-05-26 00:00:00|    1545|    DEPARTMENT STORE|34.0605|-118.4193|     SP|           56700|   1527318000|   27138|    4695| 1527374700|\n",
      "|row-5zg6~ww97.msj6|   343|SHOPLIFTING-GRAND...|2018-07-28 00:00:00|    1755|      OTHER BUSINESS|34.0605|-118.4193|     SP|           64500|   1532761200|   27138|    4695| 1532825700|\n",
      "|row-645s.qsrg_8wk5|   442|SHOPLIFTING - PET...|2018-12-18 00:00:00|    1445|      OTHER BUSINESS|34.0605|-118.4193|     SP|           53100|   1545120000|   27138|    4695| 1545173100|\n",
      "|row-66w7_eavr_xtmj|   343|SHOPLIFTING-GRAND...|2019-04-15 00:00:00|    2000|         OTHER STORE|34.0605|-118.4193|     SP|           72000|   1555311600|   27138|    4695| 1555383600|\n",
      "|row-6tg4_abdx~yr4h|   343|SHOPLIFTING-GRAND...|2019-01-10 00:00:00|    1310|    DEPARTMENT STORE|34.0605|-118.4193|     SP|           47400|   1547107200|   27138|    4695| 1547154600|\n",
      "|row-6z9p~cipt.y9u8|   343|SHOPLIFTING-GRAND...|2018-09-02 00:00:00|    1450|    DEPARTMENT STORE|34.0605|-118.4193|     SP|           53400|   1535871600|   27138|    4695| 1535925000|\n",
      "|row-nqvs-3gi6~9a2d|   343|SHOPLIFTING-GRAND...|2019-04-08 00:00:00|    1134|    DEPARTMENT STORE|34.0605|-118.4193|     SP|           41640|   1554706800|   27138|    4695| 1554748440|\n",
      "|row-ntnm_89zy~jqp6|   442|SHOPLIFTING - PET...|2018-06-11 00:00:00|    1435|         OTHER STORE|34.0605|-118.4193|     SP|           52500|   1528700400|   27138|    4695| 1528752900|\n",
      "|row-pd4d_pnhe_mc3k|   442|SHOPLIFTING - PET...|2018-06-16 00:00:00|    1840|    DEPARTMENT STORE|34.0605|-118.4193|     SP|           67200|   1529132400|   27138|    4695| 1529199600|\n",
      "|row-9p7x.43me-v6a5|   343|SHOPLIFTING-GRAND...|2018-07-13 00:00:00|    2030|    DEPARTMENT STORE|34.0605|-118.4193|     SP|           73800|   1531465200|   27138|    4695| 1531539000|\n",
      "|row-9rpc~w57r-twvu|   343|SHOPLIFTING-GRAND...|2019-03-10 00:00:00|    1950|    DEPARTMENT STORE|34.0605|-118.4193|     SP|           71400|   1552204800|   27138|    4695| 1552276200|\n",
      "|row-9xi6-mekd-earf|   442|SHOPLIFTING - PET...|2018-07-21 00:00:00|    1940|              MARKET|34.0605|-118.4193|     SP|           70800|   1532156400|   27138|    4695| 1532227200|\n",
      "|row-a2h9_c66z.emrv|   442|SHOPLIFTING - PET...|2018-11-29 00:00:00|    1630|ELECTRONICS STORE...|34.0605|-118.4193|     SP|           59400|   1543478400|   27138|    4695| 1543537800|\n",
      "|row-aaig~n3xg.em9x|   343|SHOPLIFTING-GRAND...|2019-01-31 00:00:00|    1510|    DEPARTMENT STORE|34.0605|-118.4193|     SP|           54600|   1548921600|   27138|    4695| 1548976200|\n",
      "|row-afsg_4t97_niij|   442|SHOPLIFTING - PET...|2018-09-07 00:00:00|    2100|    DEPARTMENT STORE|34.0605|-118.4193|     SP|           75600|   1536303600|   27138|    4695| 1536379200|\n",
      "|row-ag3n-rnnp-2et3|   442|SHOPLIFTING - PET...|2019-01-27 00:00:00|    1350|      OTHER BUSINESS|34.0605|-118.4193|     SP|           49800|   1548576000|   27138|    4695| 1548625800|\n",
      "|row-ahkq.mczd~pz6w|   442|SHOPLIFTING - PET...|2019-03-20 00:00:00|    1930|      OTHER BUSINESS|34.0605|-118.4193|     SP|           70200|   1553065200|   27138|    4695| 1553135400|\n",
      "|row-apud-27xc.fa7b|   442|SHOPLIFTING - PET...|2019-03-16 00:00:00|    2226|      OTHER BUSINESS|34.0605|-118.4193|     SP|           80760|   1552719600|   27138|    4695| 1552800360|\n",
      "|row-wnwt_yr7c~px54|   343|SHOPLIFTING-GRAND...|2018-05-22 00:00:00|    1658|ELECTRONICS STORE...|34.0605|-118.4193|     SP|           61080|   1526972400|   27138|    4695| 1527033480|\n",
      "|row-wrcy-usns~cw5a|   343|SHOPLIFTING-GRAND...|2019-01-27 00:00:00|    1735|    DEPARTMENT STORE|34.0605|-118.4193|     SP|           63300|   1548576000|   27138|    4695| 1548639300|\n",
      "|row-xb64.up8s.gks2|   343|SHOPLIFTING-GRAND...|2018-06-02 00:00:00|    1630|         OTHER STORE|34.0605|-118.4193|     SP|           59400|   1527922800|   27138|    4695| 1527982200|\n",
      "|row-y6wa~3zrt.j535|   343|SHOPLIFTING-GRAND...|2019-02-16 00:00:00|    1730|         OTHER STORE|34.0605|-118.4193|     SP|           63000|   1550304000|   27138|    4695| 1550367000|\n",
      "|row-v7hq~k6by-3rz6|   442|SHOPLIFTING - PET...|2019-01-26 00:00:00|    1300|      OTHER BUSINESS|34.0605|-118.4193|     SP|           46800|   1548489600|   27138|    4695| 1548536400|\n",
      "|row-ve3n_6rcb~ex2h|   343|SHOPLIFTING-GRAND...|2018-08-30 00:00:00|    1915|    DEPARTMENT STORE|34.0605|-118.4193|     SP|           69300|   1535612400|   27138|    4695| 1535681700|\n",
      "|row-pzpd~qgkb~zf4u|   442|SHOPLIFTING - PET...|2018-09-02 00:00:00|    1710|    CELL PHONE STORE|34.0605|-118.4193|     SP|           61800|   1535871600|   27138|    4695| 1535933400|\n",
      "|row-q5r6_4bbk.kqgm|   442|SHOPLIFTING - PET...|2019-03-23 00:00:00|    1230|    DEPARTMENT STORE|34.0605|-118.4193|     SP|           45000|   1553324400|   27138|    4695| 1553369400|\n",
      "|row-qcr4_prjh~qjd7|   343|SHOPLIFTING-GRAND...|2018-08-26 00:00:00|    1730| BEAUTY SUPPLY STORE|34.0605|-118.4193|     SP|           63000|   1535266800|   27138|    4695| 1535329800|\n",
      "|row-qgna.uw7v.a2py|   352|          PICKPOCKET|2019-02-26 00:00:00|    1420|         OTHER STORE|34.0605|-118.4193|     SP|           51600|   1551168000|   27138|    4695| 1551219600|\n",
      "|row-qnwj_85xd.pb2i|   343|SHOPLIFTING-GRAND...|2018-08-11 00:00:00|    1526|         OTHER STORE|34.0605|-118.4193|     SP|           55560|   1533970800|   27138|    4695| 1534026360|\n",
      "|row-qp6s_r7kh.9x53|   442|SHOPLIFTING - PET...|2019-01-31 00:00:00|    2040|    DEPARTMENT STORE|34.0605|-118.4193|     SP|           74400|   1548921600|   27138|    4695| 1548996000|\n",
      "|row-qya2~jit7_jyrq|   442|SHOPLIFTING - PET...|2019-02-12 00:00:00|    2000|    DEPARTMENT STORE|34.0605|-118.4193|     SP|           72000|   1549958400|   27138|    4695| 1550030400|\n",
      "|row-bdur.ir9j_67hz|   343|SHOPLIFTING-GRAND...|2019-02-23 00:00:00|    1815|    DEPARTMENT STORE|34.0605|-118.4193|     SP|           65700|   1550908800|   27138|    4695| 1550974500|\n",
      "|row-bs2x~49mq~kx9g|   343|SHOPLIFTING-GRAND...|2018-05-23 00:00:00|    1932|ELECTRONICS STORE...|34.0605|-118.4193|     SP|           70320|   1527058800|   27138|    4695| 1527129120|\n",
      "|row-c7ze~2b7g.qgp9|   442|SHOPLIFTING - PET...|2018-12-28 00:00:00|    1830|    DEPARTMENT STORE|34.0605|-118.4193|     SP|           66600|   1545984000|   27138|    4695| 1546050600|\n",
      "|row-cbf7.44cw_4hpq|   343|SHOPLIFTING-GRAND...|2019-04-22 00:00:00|    2026|    CELL PHONE STORE|34.0605|-118.4193|     SP|           73560|   1555916400|   27138|    4695| 1555989960|\n",
      "|row-cbu9.iuy4-xpi8|   343|SHOPLIFTING-GRAND...|2019-03-14 00:00:00|    1510|      OTHER BUSINESS|34.0605|-118.4193|     SP|           54600|   1552546800|   27138|    4695| 1552601400|\n",
      "|row-cfwy.57zm-f8y7|   343|SHOPLIFTING-GRAND...|2018-08-19 00:00:00|    1610|    DEPARTMENT STORE|34.0605|-118.4193|     SP|           58200|   1534662000|   27138|    4695| 1534720200|\n",
      "|row-snu5~5fk5~fqgn|   442|SHOPLIFTING - PET...|2018-09-14 00:00:00|    1930|    DEPARTMENT STORE|34.0605|-118.4193|     SP|           70200|   1536908400|   27138|    4695| 1536978600|\n",
      "|row-szq2~3iwb~tc8v|   343|SHOPLIFTING-GRAND...|2018-09-19 00:00:00|    1910|    DEPARTMENT STORE|34.0605|-118.4193|     SP|           69000|   1537340400|   27138|    4695| 1537409400|\n",
      "|row-tc5v~ygd7.iy5h|   442|SHOPLIFTING - PET...|2019-01-06 00:00:00|    1151|    DEPARTMENT STORE|34.0605|-118.4193|     SP|           42660|   1546761600|   27138|    4695| 1546804260|\n",
      "|row-teh3_6cgi-gbqb|   442|SHOPLIFTING - PET...|2018-12-11 00:00:00|    1805|    DEPARTMENT STORE|34.0605|-118.4193|     SP|           65100|   1544515200|   27138|    4695| 1544580300|\n",
      "|row-tsbi-ugkp-bx43|   442|SHOPLIFTING - PET...|2018-05-23 00:00:00|    1320|              MARKET|34.0605|-118.4193|     SP|           48000|   1527058800|   27138|    4695| 1527106800|\n",
      "|row-iszq_h9t7~h5fv|   442|SHOPLIFTING - PET...|2018-10-15 00:00:00|    1245|SHOPPING MALL (CO...|34.0605|-118.4193|     SP|           45900|   1539586800|   27138|    4695| 1539632700|\n",
      "|row-jpc8.ic5w~9vzj|   442|SHOPLIFTING - PET...|2019-04-05 00:00:00|    1930|    DEPARTMENT STORE|34.0605|-118.4193|     SP|           70200|   1554447600|   27138|    4695| 1554517800|\n",
      "|row-jrtt_jig6_2arw|   343|SHOPLIFTING-GRAND...|2018-08-12 00:00:00|    1650|      OTHER BUSINESS|34.0605|-118.4193|     SP|           60600|   1534057200|   27138|    4695| 1534117800|\n",
      "|row-hk45~9a56~6tff|   442|SHOPLIFTING - PET...|2019-01-24 00:00:00|    1828|    DEPARTMENT STORE|34.0605|-118.4193|     SP|           66480|   1548316800|   27138|    4695| 1548383280|\n",
      "|row-huf4.em7r~zj59|   442|SHOPLIFTING - PET...|2018-07-13 00:00:00|    2000|              MARKET|34.0605|-118.4193|     SP|           72000|   1531465200|   27138|    4695| 1531537200|\n",
      "|row-i9h7-mgkf~kgnu|   343|SHOPLIFTING-GRAND...|2018-12-18 00:00:00|    1225|    DEPARTMENT STORE|34.0605|-118.4193|     SP|           44700|   1545120000|   27138|    4695| 1545164700|\n",
      "|row-id4n~vkae_xwsw|   343|SHOPLIFTING-GRAND...|2019-03-28 00:00:00|    1000|    DEPARTMENT STORE|34.0605|-118.4193|     SP|           36000|   1553756400|   27138|    4695| 1553792400|\n",
      "|row-cuz8_k5ry-bexr|   442|SHOPLIFTING - PET...|2019-04-17 00:00:00|    1632|      OTHER BUSINESS|34.0605|-118.4193|     SP|           59520|   1555484400|   27138|    4695| 1555543920|\n",
      "|row-cw69-924w-jh5y|   343|SHOPLIFTING-GRAND...|2018-08-19 00:00:00|    1820|    DEPARTMENT STORE|34.0605|-118.4193|     SP|           66000|   1534662000|   27138|    4695| 1534728000|\n",
      "|row-dgyn-tc63~3f3q|   442|SHOPLIFTING - PET...|2018-06-08 00:00:00|    1345|         OTHER STORE|34.0605|-118.4193|     SP|           49500|   1528441200|   27138|    4695| 1528490700|\n",
      "|row-dpuu_mzfx~vem7|   343|SHOPLIFTING-GRAND...|2019-02-05 00:00:00|    2044|         OTHER STORE|34.0605|-118.4193|     SP|           74640|   1549353600|   27138|    4695| 1549428240|\n",
      "|row-38vr-kxni.3izt|   343|SHOPLIFTING-GRAND...|2018-09-23 00:00:00|    1530|    DEPARTMENT STORE|34.0605|-118.4193|     SP|           55800|   1537686000|   27138|    4695| 1537741800|\n",
      "|row-3i3t~3tsj~gdip|   343|SHOPLIFTING-GRAND...|2019-04-12 00:00:00|    2130|    CELL PHONE STORE|34.0605|-118.4193|     SP|           77400|   1555052400|   27138|    4695| 1555129800|\n",
      "|row-3vfa-hkr6~aixf|   352|          PICKPOCKET|2018-05-26 00:00:00|    2030|SHOPPING MALL (CO...|34.0605|-118.4193|     SP|           73800|   1527318000|   27138|    4695| 1527391800|\n",
      "|row-g8ke_bbkk.5mdq|   442|SHOPLIFTING - PET...|2019-03-20 00:00:00|    1500|    CELL PHONE STORE|34.0605|-118.4193|     SP|           54000|   1553065200|   27138|    4695| 1553119200|\n",
      "|row-gd7a~2764-g8un|   442|SHOPLIFTING - PET...|2018-08-26 00:00:00|    1830|    DEPARTMENT STORE|34.0605|-118.4193|     SP|           66600|   1535266800|   27138|    4695| 1535333400|\n",
      "|row-ggti.5rx9_8487|   442|SHOPLIFTING - PET...|2018-08-21 00:00:00|    1610| BEAUTY SUPPLY STORE|34.0605|-118.4193|     SP|           58200|   1534834800|   27138|    4695| 1534893000|\n",
      "|row-gkq6_yxdi~26uu|   442|SHOPLIFTING - PET...|2019-02-02 00:00:00|    1725|         OTHER STORE|34.0605|-118.4193|     SP|           62700|   1549094400|   27138|    4695| 1549157100|\n",
      "|row-ffqi.hd3q-z9dm|   442|SHOPLIFTING - PET...|2019-03-20 00:00:00|    1928|      OTHER BUSINESS|34.0605|-118.4193|     SP|           70080|   1553065200|   27138|    4695| 1553135280|\n",
      "|row-fgnn-2gbu.s2cv|   442|SHOPLIFTING - PET...|2018-08-21 00:00:00|    1829|      OTHER BUSINESS|34.0605|-118.4193|     SP|           66540|   1534834800|   27138|    4695| 1534901340|\n",
      "|row-fjvt_z6g5.dsr3|   442|SHOPLIFTING - PET...|2018-12-21 00:00:00|    2220|    DEPARTMENT STORE|34.0605|-118.4193|     SP|           80400|   1545379200|   27138|    4695| 1545459600|\n",
      "|row-8irf~upc2_8jx6|   442|SHOPLIFTING - PET...|2018-07-10 00:00:00|    1415|      OTHER BUSINESS|34.0605|-118.4193|     SP|           51300|   1531206000|   27138|    4695| 1531257300|\n",
      "|row-8ymv-cutt_rq85|   343|SHOPLIFTING-GRAND...|2018-07-30 00:00:00|    1400|    DEPARTMENT STORE|34.0605|-118.4193|     SP|           50400|   1532934000|   27138|    4695| 1532984400|\n",
      "|row-dzwm~wmyk.ngcs|   442|SHOPLIFTING - PET...|2019-04-01 00:00:00|    1240|    DEPARTMENT STORE|34.0605|-118.4193|     SP|           45600|   1554102000|   27138|    4695| 1554147600|\n",
      "|row-e5gm_a43c-ded3|   442|SHOPLIFTING - PET...|2018-06-04 00:00:00|    1920|    DEPARTMENT STORE|34.0605|-118.4193|     SP|           69600|   1528095600|   27138|    4695| 1528165200|\n",
      "|row-e6z7_8y8i.7ct3|   442|SHOPLIFTING - PET...|2018-11-20 00:00:00|    1535|SHOPPING MALL (CO...|34.0605|-118.4193|     SP|           56100|   1542700800|   27138|    4695| 1542756900|\n",
      "|row-mcrs-tk5y_givn|   442|SHOPLIFTING - PET...|2019-01-18 00:00:00|    1800|         OTHER STORE|34.0605|-118.4193|     SP|           64800|   1547798400|   27138|    4695| 1547863200|\n",
      "|row-mmbu_fdv3-6b9p|   343|SHOPLIFTING-GRAND...|2019-02-02 00:00:00|    1410|         OTHER STORE|34.0605|-118.4193|     SP|           51000|   1549094400|   27138|    4695| 1549145400|\n",
      "|row-25py.387z-b9nz|   343|SHOPLIFTING-GRAND...|2018-06-29 00:00:00|    1950|    DEPARTMENT STORE|34.0605|-118.4193|     SP|           71400|   1530255600|   27138|    4695| 1530327000|\n",
      "|row-2bbm.jj5v-xtkb|   442|SHOPLIFTING - PET...|2018-12-03 00:00:00|    2120|    DEPARTMENT STORE|34.0605|-118.4193|     SP|           76800|   1543824000|   27138|    4695| 1543900800|\n",
      "|row-2i3c~xurc_zktc|   343|SHOPLIFTING-GRAND...|2018-11-23 00:00:00|    1300|ELECTRONICS STORE...|34.0605|-118.4193|     SP|           46800|   1542960000|   27138|    4695| 1543006800|\n",
      "|row-2k58_49x8_ngpj|   442|SHOPLIFTING - PET...|2018-08-11 00:00:00|    1735|         OTHER STORE|34.0605|-118.4193|     SP|           63300|   1533970800|   27138|    4695| 1534034100|\n",
      "|row-2ria.t5dk.9hr7|   343|SHOPLIFTING-GRAND...|2018-08-12 00:00:00|    1650|      OTHER BUSINESS|34.0605|-118.4193|     SP|           60600|   1534057200|   27138|    4695| 1534117800|\n",
      "|row-2s7a-thg5_sqjy|   343|SHOPLIFTING-GRAND...|2018-06-06 00:00:00|    1730|ELECTRONICS STORE...|34.0605|-118.4193|     SP|           63000|   1528268400|   27138|    4695| 1528331400|\n",
      "|row-ys2n-m6k2-24j7|   343|SHOPLIFTING-GRAND...|2018-07-23 00:00:00|    1830|    DEPARTMENT STORE|34.0605|-118.4193|     SP|           66600|   1532329200|   27138|    4695| 1532395800|\n",
      "|row-z3rh.rqv6.7f2i|   343|SHOPLIFTING-GRAND...|2018-12-15 00:00:00|    1520|    DEPARTMENT STORE|34.0605|-118.4193|     SP|           55200|   1544860800|   27138|    4695| 1544916000|\n",
      "|row-zth8~aqsw-66wb|   343|SHOPLIFTING-GRAND...|2018-11-02 00:00:00|    1930|    DEPARTMENT STORE|34.0605|-118.4193|     SP|           70200|   1541142000|   27138|    4695| 1541212200|\n",
      "|row-zuip.qgfg-itfs|   442|SHOPLIFTING - PET...|2018-07-27 00:00:00|    1610|              MARKET|34.0605|-118.4193|     SP|           58200|   1532674800|   27138|    4695| 1532733000|\n",
      "|row-4ic7_h6tw-3rfs|   343|SHOPLIFTING-GRAND...|2019-03-21 00:00:00|    1900|      OTHER BUSINESS|34.0605|-118.4193|     SP|           68400|   1553151600|   27138|    4695| 1553220000|\n",
      "|row-4s6u_m4k8_xtha|   442|SHOPLIFTING - PET...|2018-12-11 00:00:00|    1900|         OTHER STORE|34.0605|-118.4193|     SP|           68400|   1544515200|   27138|    4695| 1544583600|\n",
      "|row-7bie~ahrv~8vrz|   343|SHOPLIFTING-GRAND...|2019-04-09 00:00:00|    1615|    DEPARTMENT STORE|34.0605|-118.4193|     SP|           58500|   1554793200|   27138|    4695| 1554851700|\n",
      "|row-7suw-kv7j.z5at|   343|SHOPLIFTING-GRAND...|2019-04-28 00:00:00|    1840|      OTHER BUSINESS|34.0605|-118.4193|     SP|           67200|   1556434800|   27138|    4695| 1556502000|\n",
      "|row-tzmd_4rdu.9x25|   343|SHOPLIFTING-GRAND...|2018-07-06 00:00:00|    1700|    CELL PHONE STORE|34.0605|-118.4193|     SP|           61200|   1530860400|   27138|    4695| 1530921600|\n",
      "|row-u5b6.5nz5.s48b|   343|SHOPLIFTING-GRAND...|2019-03-12 00:00:00|    1748|      OTHER BUSINESS|34.0605|-118.4193|     SP|           64080|   1552374000|   27138|    4695| 1552438080|\n",
      "|row-kbet~iadq-gtgs|   442|SHOPLIFTING - PET...|2018-11-07 00:00:00|    1525|    DEPARTMENT STORE|34.0605|-118.4193|     SP|           55500|   1541577600|   27138|    4695| 1541633100|\n",
      "|row-kgb5~4bir.fvai|   442|SHOPLIFTING - PET...|2018-08-19 00:00:00|    1610|    DEPARTMENT STORE|34.0605|-118.4193|     SP|           58200|   1534662000|   27138|    4695| 1534720200|\n",
      "|row-rk6f-b7gp-mj6i|   442|SHOPLIFTING - PET...|2018-11-20 00:00:00|    2045|    DEPARTMENT STORE|34.0605|-118.4193|     SP|           74700|   1542700800|   27138|    4695| 1542775500|\n",
      "|row-rv86~k2s5.ytfa|   343|SHOPLIFTING-GRAND...|2018-11-12 00:00:00|    1600|    DEPARTMENT STORE|34.0605|-118.4193|     SP|           57600|   1542009600|   27138|    4695| 1542067200|\n",
      "|row-ry58.2amr.2dfb|   442|SHOPLIFTING - PET...|2018-12-08 00:00:00|    2300|    DEPARTMENT STORE|34.0605|-118.4193|     SP|           82800|   1544256000|   27138|    4695| 1544338800|\n",
      "|row-s3dd.rpei-9exx|   343|SHOPLIFTING-GRAND...|2018-10-30 00:00:00|    2025|    DEPARTMENT STORE|34.0605|-118.4193|     SP|           73500|   1540882800|   27138|    4695| 1540956300|\n",
      "|row-s7vs-m6bu-tcha|   442|SHOPLIFTING - PET...|2018-11-19 00:00:00|    1900|    DEPARTMENT STORE|34.0605|-118.4193|     SP|           68400|   1542614400|   27138|    4695| 1542682800|\n",
      "+------------------+------+--------------------+-------------------+--------+--------------------+-------+---------+-------+----------------+-------------+--------+--------+-----------+\n",
      "\n"
     ]
    }
   ],
   "source": [
    "e = crime_incidents.filter(crime_incidents.lat_bb_c==27138).filter(crime_incidents.lon_bb_c==4695).filter(crime_incidents.crm_grp=='SP')\n",
    "e.show(e.count())\n"
   ]
  },
  {
   "cell_type": "code",
   "execution_count": 28,
   "metadata": {},
   "outputs": [
    {
     "name": "stdout",
     "output_type": "stream",
     "text": [
      "+------------------+------+--------------------+-------------------+--------+--------------+-------+---------+-------+----------------+-------------+--------+--------+-----------+\n",
      "|               _id|crm_cd|         crm_cd_desc|           date_occ|time_occ|   premis_desc|    lon|      lat|crm_grp|time_occ_seconds|date_occ_unix|lat_bb_c|lon_bb_c|ts_occ_unix|\n",
      "+------------------+------+--------------------+-------------------+--------+--------------+-------+---------+-------+----------------+-------------+--------+--------+-----------+\n",
      "|row-58x2_52h6-qm7u|   442|SHOPLIFTING - PET...|2018-12-22 00:00:00|    1220|     THE GROVE|34.0761|-118.3563|     SP|           44400|   1545465600|   27124|    4697| 1545510000|\n",
      "|row-5b9y.zc9w~u5cm|   442|SHOPLIFTING - PET...|2018-07-29 00:00:00|    1200|     THE GROVE|34.0761|-118.3563|     SP|           43200|   1532847600|   27124|    4697| 1532890800|\n",
      "|row-5fhv.psnj~y4be|   442|SHOPLIFTING - PET...|2018-12-10 00:00:00|    1630|     THE GROVE|34.0761|-118.3563|     SP|           59400|   1544428800|   27124|    4697| 1544488200|\n",
      "|row-5ker~iade_c57u|   352|          PICKPOCKET|2018-12-30 00:00:00|    1800|     THE GROVE|34.0761|-118.3563|     SP|           64800|   1546156800|   27124|    4697| 1546221600|\n",
      "|row-msnr~q4jw.5xam|   343|SHOPLIFTING-GRAND...|2019-03-05 00:00:00|    1045|     THE GROVE|34.0761|-118.3563|     SP|           38700|   1551772800|   27124|    4697| 1551811500|\n",
      "|row-n8se_65rc-fp76|   442|SHOPLIFTING - PET...|2019-02-05 00:00:00|    1345|     THE GROVE|34.0761|-118.3563|     SP|           49500|   1549353600|   27124|    4697| 1549403100|\n",
      "|row-nh3d-szgs.hv3s|   343|SHOPLIFTING-GRAND...|2019-02-22 00:00:00|    1359|     THE GROVE|34.0761|-118.3563|     SP|           50340|   1550822400|   27124|    4697| 1550872740|\n",
      "|row-pifv.b597-jtc5|   442|SHOPLIFTING - PET...|2018-08-14 00:00:00|    2200|     THE GROVE|34.0761|-118.3563|     SP|           79200|   1534230000|   27124|    4697| 1534309200|\n",
      "|row-pim9.rcqc_nv7p|   343|SHOPLIFTING-GRAND...|2018-09-09 00:00:00|    1404|     THE GROVE|34.0761|-118.3563|     SP|           50640|   1536476400|   27124|    4697| 1536527040|\n",
      "|row-prq8.3kdm~a9w7|   442|SHOPLIFTING - PET...|2018-12-08 00:00:00|    2115|     THE GROVE|34.0761|-118.3563|     SP|           76500|   1544256000|   27124|    4697| 1544332500|\n",
      "|row-9hst~xx64-b29m|   442|SHOPLIFTING - PET...|2018-06-19 00:00:00|    0850|        MARKET|34.0761|-118.3555|     SP|           31800|   1529391600|   27124|    4697| 1529423400|\n",
      "|row-9m7n_7936-b5h4|   442|SHOPLIFTING - PET...|2019-01-03 00:00:00|    1857|     THE GROVE|34.0761|-118.3563|     SP|           68220|   1546502400|   27124|    4697| 1546570620|\n",
      "|row-9rjs~twh6.xyqr|   442|SHOPLIFTING - PET...|2019-03-15 00:00:00|    2115|     THE GROVE|34.0761|-118.3563|     SP|           76500|   1552633200|   27124|    4697| 1552709700|\n",
      "|row-auim~prb5_fikx|   442|SHOPLIFTING - PET...|2019-01-20 00:00:00|    1140|     THE GROVE|34.0761|-118.3563|     SP|           42000|   1547971200|   27124|    4697| 1548013200|\n",
      "|row-wivm~pbaw_7mvr|   343|SHOPLIFTING-GRAND...|2018-05-27 00:00:00|    1130|     THE GROVE|34.0761|-118.3563|     SP|           41400|   1527404400|   27124|    4697| 1527445800|\n",
      "|row-wv6r~qs3k-iena|   343|SHOPLIFTING-GRAND...|2018-11-27 00:00:00|    1450|     THE GROVE|34.0761|-118.3563|     SP|           53400|   1543305600|   27124|    4697| 1543359000|\n",
      "|row-x2gc.i9k7.8djf|   442|SHOPLIFTING - PET...|2018-06-05 00:00:00|    1650|     THE GROVE|34.0761|-118.3563|     SP|           60600|   1528182000|   27124|    4697| 1528242600|\n",
      "|row-xj4q.46ih_8egc|   442|SHOPLIFTING - PET...|2018-05-26 00:00:00|    1845|     THE GROVE|34.0761|-118.3563|     SP|           67500|   1527318000|   27124|    4697| 1527385500|\n",
      "|row-y3yq.a8vs_e8yi|   352|          PICKPOCKET|2018-12-30 00:00:00|    1400|     THE GROVE|34.0761|-118.3563|     SP|           50400|   1546156800|   27124|    4697| 1546207200|\n",
      "|row-v3fk_e9pr.szfk|   442|SHOPLIFTING - PET...|2019-04-19 00:00:00|    1610|OTHER BUSINESS|34.0735|-118.3571|     SP|           58200|   1555657200|   27124|    4697| 1555715400|\n",
      "|row-qn9w~rwtf_e4bz|   442|SHOPLIFTING - PET...|2018-11-03 00:00:00|    1345|     THE GROVE|34.0761|-118.3563|     SP|           49500|   1541228400|   27124|    4697| 1541277900|\n",
      "|row-bn3i_t6xs-via9|   442|SHOPLIFTING - PET...|2019-02-06 00:00:00|    1420|     THE GROVE|34.0761|-118.3563|     SP|           51600|   1549440000|   27124|    4697| 1549491600|\n",
      "|row-c7zj-6k6j~udkp|   442|SHOPLIFTING - PET...|2019-01-27 00:00:00|    1600|     THE GROVE|34.0761|-118.3563|     SP|           57600|   1548576000|   27124|    4697| 1548633600|\n",
      "|row-cas6~5wvk~kk5s|   343|SHOPLIFTING-GRAND...|2019-01-06 00:00:00|    1318|     THE GROVE|34.0761|-118.3563|     SP|           47880|   1546761600|   27124|    4697| 1546809480|\n",
      "|row-t6pr_jqdv.j7m2|   352|          PICKPOCKET|2018-12-11 00:00:00|    1530|     THE GROVE|34.0761|-118.3563|     SP|           55800|   1544515200|   27124|    4697| 1544571000|\n",
      "|row-tjdx.dvvb.4jxb|   442|SHOPLIFTING - PET...|2018-12-23 00:00:00|    1735|OTHER BUSINESS|34.0761|-118.3563|     SP|           63300|   1545552000|   27124|    4697| 1545615300|\n",
      "|row-ii4y-zjes~jvxh|   343|SHOPLIFTING-GRAND...|2019-01-17 00:00:00|    1145|     THE GROVE|34.0761|-118.3563|     SP|           42300|   1547712000|   27124|    4697| 1547754300|\n",
      "|row-iwad.swwx.2n3j|   442|SHOPLIFTING - PET...|2019-03-17 00:00:00|    1451|   OTHER STORE|34.0761|-118.3563|     SP|           53460|   1552806000|   27124|    4697| 1552859460|\n",
      "|row-jekp~v6qb.bmvw|   343|SHOPLIFTING-GRAND...|2018-07-08 00:00:00|    2045|     THE GROVE|34.0761|-118.3563|     SP|           74700|   1531033200|   27124|    4697| 1531107900|\n",
      "|row-jj34.652b_722h|   442|SHOPLIFTING - PET...|2019-04-22 00:00:00|    1400|     THE GROVE|34.0761|-118.3563|     SP|           50400|   1555916400|   27124|    4697| 1555966800|\n",
      "|row-jscf_m57i-fyhc|   442|SHOPLIFTING - PET...|2018-11-23 00:00:00|    2030|     THE GROVE|34.0761|-118.3563|     SP|           73800|   1542960000|   27124|    4697| 1543033800|\n",
      "|row-h797_hvi3_chti|   343|SHOPLIFTING-GRAND...|2018-05-25 00:00:00|    1705|     THE GROVE|34.0761|-118.3563|     SP|           61500|   1527231600|   27124|    4697| 1527293100|\n",
      "|row-ha3a-i9wf.ycww|   343|SHOPLIFTING-GRAND...|2018-08-29 00:00:00|    1710|     THE GROVE|34.0761|-118.3563|     SP|           61800|   1535526000|   27124|    4697| 1535587800|\n",
      "|row-i3uf_hai3.ak3v|   442|SHOPLIFTING - PET...|2018-06-02 00:00:00|    1435|     THE GROVE|34.0761|-118.3563|     SP|           52500|   1527922800|   27124|    4697| 1527975300|\n",
      "|row-i3ww~7zd9~m25q|   442|SHOPLIFTING - PET...|2018-08-29 00:00:00|    1630|     THE GROVE|34.0761|-118.3563|     SP|           59400|   1535526000|   27124|    4697| 1535585400|\n",
      "|row-d4e3-vn7n.8jk2|   343|SHOPLIFTING-GRAND...|2019-01-09 00:00:00|    1404|     THE GROVE|34.0761|-118.3563|     SP|           50640|   1547020800|   27124|    4697| 1547071440|\n",
      "|row-dcwx~t9rr~5rjr|   442|SHOPLIFTING - PET...|2018-06-17 00:00:00|    2030|     THE GROVE|34.0761|-118.3563|     SP|           73800|   1529218800|   27124|    4697| 1529292600|\n",
      "|row-du9u~57ag~ut5w|   352|          PICKPOCKET|2018-09-30 00:00:00|    1810|     THE GROVE|34.0761|-118.3563|     SP|           65400|   1538290800|   27124|    4697| 1538356200|\n",
      "|row-3wya.buwc.it55|   442|SHOPLIFTING - PET...|2018-09-03 00:00:00|    1740|     THE GROVE|34.0761|-118.3563|     SP|           63600|   1535958000|   27124|    4697| 1536021600|\n",
      "|row-g3c7_uf6r-8q2n|   442|SHOPLIFTING - PET...|2018-11-09 00:00:00|    1950|     THE GROVE|34.0761|-118.3563|     SP|           71400|   1541750400|   27124|    4697| 1541821800|\n",
      "|row-gdh5-8sd3_8f29|   343|SHOPLIFTING-GRAND...|2018-07-14 00:00:00|    1730|OTHER BUSINESS|34.0761|-118.3563|     SP|           63000|   1531551600|   27124|    4697| 1531614600|\n",
      "|row-fc4x-g2m9_ypnv|   442|SHOPLIFTING - PET...|2018-11-05 00:00:00|    1905|     THE GROVE|34.0761|-118.3563|     SP|           68700|   1541404800|   27124|    4697| 1541473500|\n",
      "|row-fkwi-vw95~kduw|   442|SHOPLIFTING - PET...|2018-05-29 00:00:00|    1555|     THE GROVE|34.0761|-118.3563|     SP|           57300|   1527577200|   27124|    4697| 1527634500|\n",
      "|row-89dt-c9a3-375d|   343|SHOPLIFTING-GRAND...|2019-01-18 00:00:00|    1630|     THE GROVE|34.0761|-118.3563|     SP|           59400|   1547798400|   27124|    4697| 1547857800|\n",
      "|row-e7vr.y2em.bg5n|   343|SHOPLIFTING-GRAND...|2018-07-16 00:00:00|    1733|     THE GROVE|34.0761|-118.3563|     SP|           63180|   1531724400|   27124|    4697| 1531787580|\n",
      "|row-ejuj_xqz8.fwvm|   442|SHOPLIFTING - PET...|2018-07-14 00:00:00|    1345|OTHER BUSINESS|34.0761|-118.3563|     SP|           49500|   1531551600|   27124|    4697| 1531601100|\n",
      "|row-esm6_z8pv.vdgc|   343|SHOPLIFTING-GRAND...|2018-06-13 00:00:00|    1540|     THE GROVE|34.0761|-118.3563|     SP|           56400|   1528873200|   27124|    4697| 1528929600|\n",
      "|row-evqk-znzm-fde7|   442|SHOPLIFTING - PET...|2018-07-24 00:00:00|    1930|     THE GROVE|34.0761|-118.3563|     SP|           70200|   1532415600|   27124|    4697| 1532485800|\n",
      "|row-m27c-inrr_uvud|   442|SHOPLIFTING - PET...|2018-11-23 00:00:00|    1740|     THE GROVE|34.0761|-118.3563|     SP|           63600|   1542960000|   27124|    4697| 1543023600|\n",
      "|row-m7ez-8ap8~2u45|   442|SHOPLIFTING - PET...|2018-09-03 00:00:00|    1645|     THE GROVE|34.0761|-118.3563|     SP|           60300|   1535958000|   27124|    4697| 1536018300|\n",
      "|row-mhpa-g4xa_74tc|   442|SHOPLIFTING - PET...|2019-03-31 00:00:00|    2205|     THE GROVE|34.0761|-118.3563|     SP|           79500|   1554015600|   27124|    4697| 1554095100|\n",
      "|row-25dx-d685.iq7f|   343|SHOPLIFTING-GRAND...|2018-09-28 00:00:00|    2135|     THE GROVE|34.0761|-118.3563|     SP|           77700|   1538118000|   27124|    4697| 1538195700|\n",
      "|row-2gxt~ummm-4j36|   442|SHOPLIFTING - PET...|2019-01-31 00:00:00|    1550|OTHER BUSINESS|34.0735|-118.3571|     SP|           57000|   1548921600|   27124|    4697| 1548978600|\n",
      "|row-yf7z-yr9d_gciz|   442|SHOPLIFTING - PET...|2018-09-19 00:00:00|    1450|        MARKET|34.0761|-118.3555|     SP|           53400|   1537340400|   27124|    4697| 1537393800|\n",
      "|row-z585_dv5i~2hbx|   442|SHOPLIFTING - PET...|2019-02-06 00:00:00|    2000|     THE GROVE|34.0761|-118.3563|     SP|           72000|   1549440000|   27124|    4697| 1549512000|\n",
      "|row-zey7-dwu3.scg3|   442|SHOPLIFTING - PET...|2018-07-24 00:00:00|    1345|     THE GROVE|34.0761|-118.3563|     SP|           49500|   1532415600|   27124|    4697| 1532465100|\n",
      "|row-zf7b.6cex.jwr5|   343|SHOPLIFTING-GRAND...|2019-03-04 00:00:00|    1330|     THE GROVE|34.0761|-118.3563|     SP|           48600|   1551686400|   27124|    4697| 1551735000|\n",
      "|row-zftf.z62q.zyry|   352|          PICKPOCKET|2018-09-11 00:00:00|    1515|OTHER BUSINESS|34.0735|-118.3571|     SP|           54900|   1536649200|   27124|    4697| 1536704100|\n",
      "|row-zr3i.ger2_zim5|   442|SHOPLIFTING - PET...|2019-03-16 00:00:00|    1511|     THE GROVE|34.0761|-118.3563|     SP|           54660|   1552719600|   27124|    4697| 1552774260|\n",
      "|row-4rj8_q7z9_4dt6|   343|SHOPLIFTING-GRAND...|2018-11-23 00:00:00|    2009|     THE GROVE|34.0761|-118.3563|     SP|           72540|   1542960000|   27124|    4697| 1543032540|\n",
      "|row-4z3m_zmx9_9sgd|   442|SHOPLIFTING - PET...|2018-05-24 00:00:00|    1215|     THE GROVE|34.0761|-118.3563|     SP|           44100|   1527145200|   27124|    4697| 1527189300|\n",
      "|row-83gc.e3b5.5jdc|   343|SHOPLIFTING-GRAND...|2018-07-29 00:00:00|    2100|OTHER BUSINESS|34.0735|-118.3571|     SP|           75600|   1532847600|   27124|    4697| 1532923200|\n",
      "|row-u94t-2rwe~d6ir|   442|SHOPLIFTING - PET...|2019-01-27 00:00:00|    1240|     THE GROVE|34.0761|-118.3563|     SP|           45600|   1548576000|   27124|    4697| 1548621600|\n",
      "|row-k8sq~bazp.u2x8|   343|SHOPLIFTING-GRAND...|2018-05-19 00:00:00|    1845|     THE GROVE|34.0761|-118.3563|     SP|           67500|   1526713200|   27124|    4697| 1526780700|\n",
      "|row-s6cs-kiwu_9b6s|   442|SHOPLIFTING - PET...|2019-03-15 00:00:00|    1354|   OTHER STORE|34.0761|-118.3563|     SP|           50040|   1552633200|   27124|    4697| 1552683240|\n",
      "|row-s9zf.qit9-eiwa|   442|SHOPLIFTING - PET...|2019-01-29 00:00:00|    1808|     THE GROVE|34.0761|-118.3563|     SP|           65280|   1548748800|   27124|    4697| 1548814080|\n",
      "+------------------+------+--------------------+-------------------+--------+--------------+-------+---------+-------+----------------+-------------+--------+--------+-----------+\n",
      "\n"
     ]
    }
   ],
   "source": [
    "e = crime_incidents.filter(crime_incidents.lat_bb_c==27124).filter(crime_incidents.lon_bb_c==4697).filter(crime_incidents.crm_grp=='SP')\n",
    "e.show(e.count())\n"
   ]
  },
  {
   "cell_type": "code",
   "execution_count": null,
   "metadata": {},
   "outputs": [],
   "source": [
    "loc_time_samples = loc_time_samples.withColumn('lat_bb', actb_lat(loc_time_samples.latitude))\n",
    "loc_time_samples = loc_time_samples.withColumn('lon_bb', actb_lon(loc_time_samples.longitude))\n",
    "# convert datetime to unix timestamp\n",
    "loc_time_samples = loc_time_samples.withColumn('timestamp_unix', unix_timestamp(loc_time_samples.timestamp))"
   ]
  },
  {
   "cell_type": "code",
   "execution_count": null,
   "metadata": {},
   "outputs": [],
   "source": [
    "results = None\n",
    "for i in range(-1, 2):\n",
    "    for j in range(-1, 2):\n",
    "        subsample = loc_time_samples.withColumn('lat_bb', loc_time_samples.lat_bb + i)\n",
    "        subsample = subsample.withColumn('lon_bb', loc_time_samples.lon_bb + j)\n",
    "\n",
    "        results_subsample = subsample.join(\n",
    "            crime_incidents,\n",
    "            (subsample.lat_bb == crime_incidents.lat_bb_c) & (subsample.lon_bb == crime_incidents.lon_bb_c)\n",
    "        )\n",
    "\n",
    "        results_subsample = results_subsample.filter(\n",
    "            results_subsample.ts_occ_unix - results_subsample.timestamp_unix < 3600\n",
    "        )\n",
    "        results_subsample = results_subsample.filter(\n",
    "            results_subsample.ts_occ_unix - results_subsample.timestamp_unix > 0\n",
    "        )\n",
    "\n",
    "        results_subsample = results_subsample.withColumn('distance', space_dist(\n",
    "            results_subsample.longitude,\n",
    "            results_subsample.latitude,\n",
    "            results_subsample.lon,\n",
    "            results_subsample.lat,\n",
    "        ))\n",
    "\n",
    "        results_subsample = results_subsample.filter(results_subsample.distance < .25)\n",
    "        results = results.union(results_subsample) if results else results_subsample"
   ]
  },
  {
   "cell_type": "code",
   "execution_count": null,
   "metadata": {},
   "outputs": [],
   "source": [
    "results = results.groupBy(\"id\", \"crm_grp\").count()"
   ]
  },
  {
   "cell_type": "code",
   "execution_count": null,
   "metadata": {},
   "outputs": [],
   "source": [
    "results = results.withColumn('n_ab', udf(lambda x: 1 if x == 'AB' else 0)(results.crm_grp))\n",
    "results = results.withColumn('n_bt', udf(lambda x: 1 if x == 'BT' else 0)(results.crm_grp))\n",
    "results = results.withColumn('n_btv', udf(lambda x: 1 if x == 'BTV' else 0)(results.crm_grp))\n",
    "results = results.withColumn('n_vbbs', udf(lambda x: 1 if x == 'VBBS' else 0)(results.crm_grp))\n",
    "results = results.withColumn('n_pdt', udf(lambda x: 1 if x == 'PDT' else 0)(results.crm_grp))\n",
    "results = results.withColumn('n_ltvc', udf(lambda x: 1 if x == 'LTVC' else 0)(results.crm_grp))\n",
    "results = results.withColumn('n_sp', udf(lambda x: 1 if x == 'SP' else 0)(results.crm_grp))\n",
    "results = results.withColumn('n_mio', udf(lambda x: 1 if x == 'MIO' else 0)(results.crm_grp))\n",
    "results = results.withColumn('n_r', udf(lambda x: 1 if x == 'R' else 0)(results.crm_grp))"
   ]
  },
  {
   "cell_type": "code",
   "execution_count": null,
   "metadata": {},
   "outputs": [],
   "source": [
    "results = results.groupBy(\"id\").agg({\n",
    "    'n_ab': 'sum',\n",
    "    'n_bt': 'sum',\n",
    "    'n_btv': 'sum',\n",
    "    'n_vbbs': 'sum',\n",
    "    'n_pdt': 'sum',\n",
    "    'n_ltvc': 'sum',\n",
    "    'n_sp': 'sum',\n",
    "    'n_mio': 'sum',\n",
    "    'n_r': 'sum'\n",
    "})"
   ]
  },
  {
   "cell_type": "code",
   "execution_count": null,
   "metadata": {},
   "outputs": [],
   "source": [
    "dataset = loc_time_samples.join(results, \"id\", \"left_outer\")\n"
   ]
  },
  {
   "cell_type": "code",
   "execution_count": null,
   "metadata": {},
   "outputs": [],
   "source": [
    "dataset = dataset.fillna(0, subset=['sum(n_mio)', 'sum(n_btv)', 'sum(n_vbbs)', 'sum(n_pdt)', 'sum(n_bt)',\n",
    "                          'sum(n_ltvc)', 'sum(n_r)', 'sum(n_sp)','sum(n_ab)'])\n"
   ]
  },
  {
   "cell_type": "code",
   "execution_count": 16,
   "metadata": {},
   "outputs": [
    {
     "data": {
      "text/plain": [
       "<matplotlib.collections.PathCollection at 0x7f853feab668>"
      ]
     },
     "execution_count": 16,
     "metadata": {},
     "output_type": "execute_result"
    },
    {
     "data": {
      "image/png": "[encoded data removed]",
      "text/plain": [
       "<Figure size 432x288 with 1 Axes>"
      ]
     },
     "metadata": {
      "needs_background": "light"
     },
     "output_type": "display_data"
    }
   ],
   "source": [
    "import pandas as pd\n",
    "from matplotlib import pyplot as plt\n",
    "%matplotlib inline\n",
    "df = pd.read_csv('/home/ben/.envs/cc/CrymeClarity/crymepipelines/src/tmp/complete_dataset.csv')\n",
    "e = df[df['n_ab']>0]\n",
    "\n",
    "plt.scatter(e.latitude, e.longitude)"
   ]
  },
  {
   "cell_type": "code",
   "execution_count": 17,
   "metadata": {},
   "outputs": [
    {
     "data": {
      "text/plain": [
       "(957, 18)"
      ]
     },
     "execution_count": 17,
     "metadata": {},
     "output_type": "execute_result"
    }
   ],
   "source": [
    "e.shape"
   ]
  },
  {
   "cell_type": "code",
   "execution_count": null,
   "metadata": {},
   "outputs": [],
   "source": []
  }
 ],
 "metadata": {
  "kernelspec": {
   "display_name": "Python 3",
   "language": "python",
   "name": "python3"
  },
  "language_info": {
   "codemirror_mode": {
    "name": "ipython",
    "version": 3
   },
   "file_extension": ".py",
   "mimetype": "text/x-python",
   "name": "python",
   "nbconvert_exporter": "python",
   "pygments_lexer": "ipython3",
   "version": "3.6.8"
  }
 },
 "nbformat": 4,
 "nbformat_minor": 2
}
