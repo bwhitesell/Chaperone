{
 "cells": [
  {
   "cell_type": "code",
   "execution_count": 3,
   "metadata": {},
   "outputs": [],
   "source": [
    "import os\n",
    "import sys\n",
    "import numpy as np\n",
    "from matplotlib import pyplot as plt\n",
    "\n",
    "try:\n",
    "    import pyspark\n",
    "except ImportError:\n",
    "    import findspark\n",
    "    findspark.init()\n",
    "    import pyspark\n",
    "    \n",
    "    \n",
    "# give notebook access to crymepipelines app modules\n",
    "CRYMEPIPELINES_PATH = '/home/ben/.envs/cc/CrymeClarity/crymepipelines/src'\n",
    "sys.path.insert(0, CRYMEPIPELINES_PATH)\n",
    "sys.path.insert(1, CRYMEPIPELINES_PATH+'/tasks')\n",
    "\n",
    "\n",
    "#build spark session\n",
    "APP_NAME = 'CRYME_PIPELINE_DEV'\n",
    "sc = pyspark.SparkContext()\n",
    "spark = pyspark.sql.SparkSession(sc).builder.appName(APP_NAME).getOrCreate()\n"
   ]
  },
  {
   "cell_type": "code",
   "execution_count": 4,
   "metadata": {},
   "outputs": [],
   "source": [
    "# import cyrmepipelines app modules\n",
    "import csv\n",
    "from datetime import datetime, timedelta\n",
    "import os\n",
    "import pickle as p\n",
    "import shutil\n",
    "from pyspark.sql.functions import udf, unix_timestamp\n",
    "from pyspark.sql.types import StringType\n",
    "\n",
    "from shared.objects.samples import SamplesManager\n",
    "from shared.settings import CF_TRUST_DELAY, START_DATE, cf_conn, cp_conn, TMP_DIR, BIN_DIR\n",
    "from tasks.base import SparkCrymeTask, NativeCrymeTask\n",
    "from utils import crime_occ_udf, ts_to_minutes_in_day_udf, ts_to_hour_of_day_udf, ts_to_day_of_week_udf, ts_conv, safety_rel_crimes, actb_lat, actb_lon, space_dist\n",
    "from tasks.mixins import SearchForCrimesMixin\n",
    "from tasks.constants import crime_group_mapping"
   ]
  },
  {
   "cell_type": "code",
   "execution_count": 5,
   "metadata": {},
   "outputs": [],
   "source": [
    "crime_incidents = spark.read.parquet(CRYMEPIPELINES_PATH+'/tmp/features_crime_incidents.parquet')\n",
    "loc_time_samples = SparkCrymeTask(spark).load_df_from_cp('location_time_samples')"
   ]
  },
  {
   "cell_type": "code",
   "execution_count": 6,
   "metadata": {},
   "outputs": [],
   "source": [
    "loc_time_samples = loc_time_samples.withColumn('lat_bb', actb_lat(loc_time_samples.latitude))\n",
    "loc_time_samples = loc_time_samples.withColumn('lon_bb', actb_lon(loc_time_samples.longitude))\n",
    "# convert datetime to unix timestamp\n",
    "loc_time_samples = loc_time_samples.withColumn('timestamp_unix', unix_timestamp(loc_time_samples.timestamp))"
   ]
  },
  {
   "cell_type": "code",
   "execution_count": 7,
   "metadata": {},
   "outputs": [],
   "source": [
    "results = None\n",
    "for i in range(-1, 2):\n",
    "    for j in range(-1, 2):\n",
    "        subsample = loc_time_samples.withColumn('lat_bb', loc_time_samples.lat_bb + i)\n",
    "        subsample = subsample.withColumn('lon_bb', loc_time_samples.lon_bb + j)\n",
    "\n",
    "        results_subsample = subsample.join(\n",
    "            crime_incidents,\n",
    "            (subsample.lat_bb == crime_incidents.lat_bb_c) & (subsample.lon_bb == crime_incidents.lon_bb_c)\n",
    "        )\n",
    "        "
   ]
  },
  {
   "cell_type": "code",
   "execution_count": 8,
   "metadata": {},
   "outputs": [
    {
     "name": "stdout",
     "output_type": "stream",
     "text": [
      "+---+--------+---------+---------+------+------+--------------+---+------+-----------+--------+--------+-----------+---+---+-------+----------------+-------------+--------+--------+-----------+\n",
      "| id|latitude|longitude|timestamp|lat_bb|lon_bb|timestamp_unix|_id|crm_cd|crm_cd_desc|date_occ|time_occ|premis_desc|lon|lat|crm_grp|time_occ_seconds|date_occ_unix|lat_bb_c|lon_bb_c|ts_occ_unix|\n",
      "+---+--------+---------+---------+------+------+--------------+---+------+-----------+--------+--------+-----------+---+---+-------+----------------+-------------+--------+--------+-----------+\n",
      "+---+--------+---------+---------+------+------+--------------+---+------+-----------+--------+--------+-----------+---+---+-------+----------------+-------------+--------+--------+-----------+\n",
      "\n"
     ]
    }
   ],
   "source": [
    "results_subsample.show(3)"
   ]
  },
  {
   "cell_type": "code",
   "execution_count": 10,
   "metadata": {},
   "outputs": [
    {
     "name": "stdout",
     "output_type": "stream",
     "text": [
      "+------+-------------------+-----------------+-------------------+------+------+--------------+\n",
      "|    id|           latitude|        longitude|          timestamp|lat_bb|lon_bb|timestamp_unix|\n",
      "+------+-------------------+-----------------+-------------------+------+------+--------------+\n",
      "|190307|-118.27669872988481|33.99893314222112|2019-04-17 16:58:44| 27106|  9373|    1555545524|\n",
      "|190444|-118.42547117524487|34.29496886511509|2019-04-17 16:58:29| 27140|  9455|    1555545509|\n",
      "|190302|-118.36798257059313|34.20741246560202|2019-04-17 16:57:18| 27126|  9431|    1555545438|\n",
      "+------+-------------------+-----------------+-------------------+------+------+--------------+\n",
      "only showing top 3 rows\n",
      "\n"
     ]
    }
   ],
   "source": [
    "loc_time_samples.sort('timestamp', ascending=False).show(3)"
   ]
  },
  {
   "cell_type": "code",
   "execution_count": 9,
   "metadata": {},
   "outputs": [
    {
     "name": "stdout",
     "output_type": "stream",
     "text": [
      "+------------------+------+--------------------+-------------------+--------+--------------------+---------+-------+--------------------+----------------+-------------+--------+--------+-----------+\n",
      "|               _id|crm_cd|         crm_cd_desc|           date_occ|time_occ|         premis_desc|      lon|    lat|             crm_grp|time_occ_seconds|date_occ_unix|lat_bb_c|lon_bb_c|ts_occ_unix|\n",
      "+------------------+------+--------------------+-------------------+--------+--------------------+---------+-------+--------------------+----------------+-------------+--------+--------+-----------+\n",
      "|row-3p3f~hp6y-yrri|   442|SHOPLIFTING - PET...|2018-11-12 00:00:00|    1210|DIY CENTER (LOWE'...|-118.5928|34.1847|Shoplifting/Pickp...|           43800|   1542009600|    7834|   16348| 1542053400|\n",
      "|row-3p3h-xkhf.yxkc|   210|             ROBBERY|2018-12-28 00:00:00|    1600|              STREET|-118.2842|34.0524|Robbery (Violent ...|           57600|   1545984000|    7803|   16305| 1546041600|\n",
      "|row-3p3r.fcxx_mevb|   440|THEFT PLAIN - PET...|2018-10-17 00:00:00|    1954|      OTHER BUSINESS| -118.309|  34.04|    Burglary / Theft|           71640|   1539759600|    7801|   16309| 1539831240|\n",
      "+------------------+------+--------------------+-------------------+--------+--------------------+---------+-------+--------------------+----------------+-------------+--------+--------+-----------+\n",
      "only showing top 3 rows\n",
      "\n"
     ]
    }
   ],
   "source": [
    "crime_incidents.show(3)"
   ]
  },
  {
   "cell_type": "code",
   "execution_count": 15,
   "metadata": {},
   "outputs": [
    {
     "name": "stdout",
     "output_type": "stream",
     "text": [
      "+---+------+-----------+--------+--------+-----------+---+---+-------+----------------+-------------+--------+--------+-----------+\n",
      "|_id|crm_cd|crm_cd_desc|date_occ|time_occ|premis_desc|lon|lat|crm_grp|time_occ_seconds|date_occ_unix|lat_bb_c|lon_bb_c|ts_occ_unix|\n",
      "+---+------+-----------+--------+--------+-----------+---+---+-------+----------------+-------------+--------+--------+-----------+\n",
      "+---+------+-----------+--------+--------+-----------+---+---+-------+----------------+-------------+--------+--------+-----------+\n",
      "\n"
     ]
    }
   ],
   "source": [
    "crime_incidents.filter(crime_incidents.lat_bb_c==27126).show()"
   ]
  },
  {
   "cell_type": "code",
   "execution_count": null,
   "metadata": {},
   "outputs": [],
   "source": []
  }
 ],
 "metadata": {
  "kernelspec": {
   "display_name": "Python 3",
   "language": "python",
   "name": "python3"
  },
  "language_info": {
   "codemirror_mode": {
    "name": "ipython",
    "version": 3
   },
   "file_extension": ".py",
   "mimetype": "text/x-python",
   "name": "python",
   "nbconvert_exporter": "python",
   "pygments_lexer": "ipython3",
   "version": "3.6.8"
  }
 },
 "nbformat": 4,
 "nbformat_minor": 2
}
